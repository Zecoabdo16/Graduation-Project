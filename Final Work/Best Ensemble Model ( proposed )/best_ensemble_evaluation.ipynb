{
  "nbformat": 4,
  "nbformat_minor": 0,
  "metadata": {
    "colab": {
      "provenance": [],
      "collapsed_sections": []
    },
    "kernelspec": {
      "name": "python3",
      "display_name": "Python 3"
    },
    "language_info": {
      "name": "python"
    },
    "accelerator": "GPU"
  },
  "cells": [
    {
      "cell_type": "code",
      "source": [
        "!pip install libauc"
      ],
      "metadata": {
        "id": "xZo9e-Q-12gY"
      },
      "execution_count": null,
      "outputs": []
    },
    {
      "cell_type": "code",
      "source": [
        "!unzip /content/drive/MyDrive/CHEXPERT/CheXpert-v1.0-small.zip > /dev/null"
      ],
      "metadata": {
        "id": "Tqn9hzxa9XD9"
      },
      "execution_count": null,
      "outputs": []
    },
    {
      "cell_type": "code",
      "source": [
        "!unzip /content/timm.zip > /dev/null\n",
        "!unzip /content/layers.zip > /dev/null"
      ],
      "metadata": {
        "id": "PZTvPmjadPC8",
        "colab": {
          "base_uri": "https://localhost:8080/"
        },
        "outputId": "97cef48e-e363-44a1-be52-9c2d8b9f2e51"
      },
      "execution_count": null,
      "outputs": [
        {
          "output_type": "stream",
          "name": "stdout",
          "text": [
            "unzip:  cannot find or open /content/timm.zip, /content/timm.zip.zip or /content/timm.zip.ZIP.\n",
            "unzip:  cannot find or open /content/layers.zip, /content/layers.zip.zip or /content/layers.zip.ZIP.\n"
          ]
        }
      ]
    },
    {
      "cell_type": "code",
      "source": [
        "df = pd.read_csv('/content/CheXpert-v1.0-small/valid.csv')"
      ],
      "metadata": {
        "id": "E5UppnvYiaRW"
      },
      "execution_count": null,
      "outputs": []
    },
    {
      "cell_type": "code",
      "source": [
        "from pandas.core.frame import DataFrame\n",
        "df = df[df['Frontal/Lateral']== 'Frontal']\n",
        "df = df['Path']\n",
        "df = pd.DataFrame(df)\n",
        "df.to_csv('df.csv' , index = False)"
      ],
      "metadata": {
        "id": "sPP6Zy-qijjp"
      },
      "execution_count": null,
      "outputs": []
    },
    {
      "cell_type": "code",
      "source": [
        "pip install timm"
      ],
      "metadata": {
        "colab": {
          "base_uri": "https://localhost:8080/"
        },
        "id": "rF4Kad5lVdem",
        "outputId": "66e445b4-bd20-4171-ff3a-721c9f6f66a6"
      },
      "execution_count": null,
      "outputs": [
        {
          "output_type": "stream",
          "name": "stdout",
          "text": [
            "Looking in indexes: https://pypi.org/simple, https://us-python.pkg.dev/colab-wheels/public/simple/\n",
            "Collecting timm\n",
            "  Downloading timm-0.6.5-py3-none-any.whl (512 kB)\n",
            "\u001b[K     |████████████████████████████████| 512 kB 5.1 MB/s \n",
            "\u001b[?25hRequirement already satisfied: torchvision in /usr/local/lib/python3.7/dist-packages (from timm) (0.13.0+cu113)\n",
            "Requirement already satisfied: torch>=1.4 in /usr/local/lib/python3.7/dist-packages (from timm) (1.12.0+cu113)\n",
            "Requirement already satisfied: typing-extensions in /usr/local/lib/python3.7/dist-packages (from torch>=1.4->timm) (4.1.1)\n",
            "Requirement already satisfied: pillow!=8.3.*,>=5.3.0 in /usr/local/lib/python3.7/dist-packages (from torchvision->timm) (7.1.2)\n",
            "Requirement already satisfied: requests in /usr/local/lib/python3.7/dist-packages (from torchvision->timm) (2.23.0)\n",
            "Requirement already satisfied: numpy in /usr/local/lib/python3.7/dist-packages (from torchvision->timm) (1.21.6)\n",
            "Requirement already satisfied: chardet<4,>=3.0.2 in /usr/local/lib/python3.7/dist-packages (from requests->torchvision->timm) (3.0.4)\n",
            "Requirement already satisfied: certifi>=2017.4.17 in /usr/local/lib/python3.7/dist-packages (from requests->torchvision->timm) (2022.6.15)\n",
            "Requirement already satisfied: urllib3!=1.25.0,!=1.25.1,<1.26,>=1.21.1 in /usr/local/lib/python3.7/dist-packages (from requests->torchvision->timm) (1.24.3)\n",
            "Requirement already satisfied: idna<3,>=2.5 in /usr/local/lib/python3.7/dist-packages (from requests->torchvision->timm) (2.10)\n",
            "Installing collected packages: timm\n",
            "Successfully installed timm-0.6.5\n"
          ]
        }
      ]
    },
    {
      "cell_type": "code",
      "source": [
        "import torch"
      ],
      "metadata": {
        "id": "Wmmm7atWcaXh"
      },
      "execution_count": null,
      "outputs": []
    },
    {
      "cell_type": "code",
      "source": [
        "import timm"
      ],
      "metadata": {
        "id": "S7scCanzVfcJ"
      },
      "execution_count": null,
      "outputs": []
    },
    {
      "cell_type": "code",
      "source": [
        "import sys\n",
        "import csv\n",
        "import time\n",
        "import IPython\n",
        "\n",
        "import cv2\n",
        "import numpy as np \n",
        "import pandas as pd\n",
        "from torch import nn\n",
        "\n",
        "\n",
        "import matplotlib.pyplot as plt\n",
        "\n",
        "import torch\n",
        "from torch.utils.data import DataLoader\n",
        "from torch.optim import Adam, lr_scheduler\n",
        "\n",
        "\n",
        "from sklearn.metrics import roc_auc_score\n",
        "\n",
        "#cuda = torch.device('cuda:0')\n",
        "# from libauc.losses import AUCM_MultiLabel\n",
        "# from libauc.optimizers import PESG\n",
        "#from chexpert import CheXpert\n",
        "# from chexpert import CheXpert\n",
        "from myGen_v7 import MyGen\n",
        "from  myGen import MyGen_1\n",
        "\n",
        "\n",
        "# from torchvision.models import densenet121\n",
        "# from torchvision.models import densenet161\n",
        "from torchvision.models import efficientnet_b0\n",
        "from chexpert_2 import Chex\n"
      ],
      "metadata": {
        "id": "LUG-7VqUDIWD"
      },
      "execution_count": null,
      "outputs": []
    },
    {
      "cell_type": "code",
      "source": [
        "    test_CA =  MyGen_1(csv_path='/content/df.csv', \n",
        "                 image_size=320)\n",
        "     \n",
        "    loader_CA =  torch.utils.data.DataLoader(test_CA, batch_size=1, num_workers=1, shuffle=False)\n",
        "\n",
        "\n",
        "    test_ED =  MyGen(csv_path='/content/df.csv', \n",
        "                 image_size=256, \n",
        "                 use_clahe= False ,\n",
        "                 use_fourier = False ,\n",
        "                 use_histoeq = False,\n",
        "                 use_decomposition = False,\n",
        "                 use_godec = True,\n",
        "                 use_top_bottom= False \n",
        "                 )\n",
        "    loader_ED =  torch.utils.data.DataLoader(test_ED, batch_size=1, num_workers=1, shuffle=False)\n",
        "\n",
        "\n",
        "    test_CON =  MyGen_1(csv_path='/content/df.csv', \n",
        "                 image_size=320\n",
        "                 )\n",
        "    loader_CON =  torch.utils.data.DataLoader(test_CON, batch_size=1, num_workers=1, shuffle=False)\n",
        "\n",
        "    test_AT =   MyGen_1(csv_path='/content/df.csv', \n",
        "                 image_size=320\n",
        "                 )\n",
        "    \n",
        "    loader_AT =  torch.utils.data.DataLoader(test_AT, batch_size=1, num_workers=1, shuffle=False)\n",
        "\n",
        "\n",
        "    test_PE =  MyGen(csv_path='/content/df.csv', \n",
        "                 image_size=256, \n",
        "                 use_clahe= False ,\n",
        "                 use_fourier = True ,\n",
        "                 use_histoeq = False,\n",
        "                 use_decomposition = False,\n",
        "                 use_godec = False,\n",
        "                 use_top_bottom= False \n",
        "                 )\n",
        "    loader_PE =  torch.utils.data.DataLoader(test_PE, batch_size=1, num_workers=1, shuffle=False)\n",
        "    \n",
        "    print('LOADING FRONTAL MODELS')\n",
        "    # LOADING FRONTAL MODELS\n",
        "    load_CA= '/content/drive/MyDrive/ZT/CA/T_MobileNet_v3_320.pth'\n",
        "    load_ED = '/content/drive/MyDrive/CHEXPERT/rexnet_150_godec_New.pth'\n",
        "    load_CON ='/content/drive/MyDrive/ZT/CON/Z_resnet152_320.pth'\n",
        "    load_AT='/content/drive/MyDrive/ZT/AT/Z_resnet50_320.pth'\n",
        "    load_PE= '/content/drive/MyDrive/smsm/Fourier/PE_256_0955_EFF_B0_pretrained.pth'\n",
        "\n",
        "\n",
        "\n",
        "\n",
        "    model_CA = timm.create_model('mobilenetv3_large_100_miil', num_classes=5, pretrained=False)\n",
        "    model_ED = timm.create_model('rexnet_150', num_classes=1, pretrained=False)\n",
        "    model_CON =timm.create_model('resnet152', num_classes=5, pretrained=False)\n",
        "    model_At = timm.create_model('resnet50', num_classes=5, pretrained=False)\n",
        "    model_PE = efficientnet_b0(pretrained=False)\n",
        "    model_PE = nn.Sequential(*list(model_PE.children())[:-1] ,nn.Flatten(),nn.Linear(in_features=1280, out_features=1) ,nn.Sigmoid()).cuda()\n",
        "\n",
        "                        \n",
        "    model_CA = model_CA.cuda()\n",
        "    model_ED = model_ED.cuda()\n",
        "    model_CON = model_CON.cuda()\n",
        "    model_At = model_At.cuda()\n",
        "    model_PE = model_PE.cuda()\n",
        "\n",
        "\n",
        "    model_CA.load_state_dict(torch.load(load_CA))\n",
        "    model_ED.load_state_dict(torch.load(load_ED))\n",
        "    model_CON.load_state_dict(torch.load(load_CON))\n",
        "    model_At.load_state_dict(torch.load(load_AT))\n",
        "    model_PE.load_state_dict(torch.load(load_PE))\n",
        "\n",
        "\n",
        "    print('LOADING LATERAL MODELS')\n",
        "    # LOADING LATERAL MODELS\n",
        "    lat_load_CA= '/content/drive/MyDrive/smsm/D7hk/AP_lat/Lateral_320_rexnet_200.pth'\n",
        "    lat_load_ED = '/content/drive/MyDrive/smsm/D7hk/AP_lat/ED_96226_Lateral_320_rexnet_200.pth'\n",
        "    lat_load_CON ='/content/drive/MyDrive/smsm/D7hk/AP_lat/CON_95824_Lateral_320_mobilenetv2_100.pth'\n",
        "    lat_load_AT='/content/drive/MyDrive/smsm/D7hk/AP_lat/AT_89018_Lateral_320_efficientnet_b1_Z.pth'\n",
        "    lat_load_PE= '/content/drive/MyDrive/smsm/D7hk/AP_lat/PE_9533_Lateral_320_resnet50.pth'\n",
        "\n",
        "\n",
        "\n",
        "\n",
        "    lat_model_CA = timm.create_model('rexnet_200', num_classes=5, pretrained=False)\n",
        "    lat_model_ED = timm.create_model('rexnet_200', num_classes=1, pretrained=False)\n",
        "    lat_model_CON =timm.create_model('mobilenetv2_100', num_classes=1, pretrained=False)\n",
        "    lat_model_At = timm.create_model('efficientnet_b1', num_classes=1, pretrained=False)\n",
        "    lat_model_PE = timm.create_model('resnet50', num_classes=1, pretrained=False)\n",
        "\n",
        "                        \n",
        "    lat_model_CA = lat_model_CA.cuda()\n",
        "    lat_model_ED = lat_model_ED.cuda()\n",
        "    lat_model_CON = lat_model_CON.cuda()\n",
        "    lat_model_At = lat_model_At.cuda()\n",
        "    lat_model_PE = lat_model_PE.cuda()\n",
        "\n",
        "\n",
        "    lat_model_CA.load_state_dict(torch.load(lat_load_CA))\n",
        "    lat_model_ED.load_state_dict(torch.load(lat_load_ED))\n",
        "    lat_model_CON.load_state_dict(torch.load(lat_load_CON))\n",
        "    lat_model_At.load_state_dict(torch.load(lat_load_AT))\n",
        "    lat_model_PE.load_state_dict(torch.load(lat_load_PE))\n",
        "\n",
        "\n",
        "\n",
        "\n",
        "    print('PREDICTING STARTED, It ')\n",
        "\n",
        "    model_CA.eval()\n",
        "    model_ED.eval()\n",
        "    model_CON.eval()\n",
        "    model_At.eval()\n",
        "    model_PE.eval()\n",
        "\n",
        "    lat_model_CA.eval()\n",
        "    lat_model_ED.eval()\n",
        "    lat_model_CON.eval()\n",
        "    lat_model_At.eval()\n",
        "    lat_model_PE.eval()\n",
        "\n",
        "\n",
        "    with torch.no_grad():    \n",
        "        pred_CA = []\n",
        "        pred_ED = []\n",
        "        pred_CON = []\n",
        "        pred_AT = []\n",
        "        pred_PE = []\n",
        "\n",
        "        lat_pred_CA = []\n",
        "        lat_pred_ED = []\n",
        "        lat_pred_CON = []\n",
        "        lat_pred_AT = []\n",
        "        lat_pred_PE = []\n",
        "\n",
        "\n",
        "        for test_1 in loader_CA:\n",
        "            test_1 = test_1.cuda()\n",
        "            y_CA = model_CA(test_1)\n",
        "            y_CA = torch.sigmoid(y_CA)\n",
        "            pred_CA.append(y_CA.cpu().detach().numpy())          \n",
        "        pred_CA = np.concatenate(pred_CA)\n",
        "        pred_CA = pred_CA[:,0].reshape(-1,1)  \n",
        "\n",
        "\n",
        "        for test_2 in loader_ED:\n",
        "            test_2 = test_2.cuda()\n",
        "            y_ED = model_ED(test_2)\n",
        "            y_ED = torch.sigmoid(y_ED)\n",
        "            pred_ED.append(y_ED.cpu().detach().numpy())          \n",
        "        pred_ED = np.concatenate(pred_ED)\n",
        "\n",
        "\n",
        "        for test_3 in loader_CON:\n",
        "            test_3 = test_3.cuda()\n",
        "            y_CON = model_CON(test_3)\n",
        "            y_CON = torch.sigmoid(y_CON)\n",
        "            pred_CON.append(y_CON.cpu().detach().numpy())               \n",
        "        pred_CON = np.concatenate(pred_CON)\n",
        "        pred_CON = pred_CON[:,2].reshape(-1,1)  \n",
        "        \n",
        "\n",
        "\n",
        "        for test_4 in loader_AT:\n",
        "            test_4 = test_4.cuda()\n",
        "            y_AT = model_At(test_4)\n",
        "            y_AT = torch.sigmoid(y_AT)\n",
        "            pred_AT.append(y_AT.cpu().detach().numpy())          \n",
        "        pred_AT = np.concatenate(pred_AT)\n",
        "        pred_AT = pred_AT[:,3].reshape(-1,1)  \n",
        "\n",
        "\n",
        "\n",
        "        for test_5 in loader_PE:\n",
        "            test_5 = test_5.cuda()\n",
        "            y_PE = model_PE(test_5)\n",
        "            # y_PE = torch.sigmoid(y_PE)\n",
        "            pred_PE.append(y_PE.cpu().detach().numpy())          \n",
        "        pred_PE = np.concatenate(pred_PE) \n",
        "\n",
        "\n",
        "        ########### Lateral #############\n",
        "        for lat_test_1 in loader_CON:\n",
        "            lat_test_1 = lat_test_1.cuda()\n",
        "            lat_y_CA = lat_model_CA(lat_test_1)\n",
        "            lat_y_CA = torch.sigmoid(lat_y_CA)\n",
        "            lat_pred_CA.append(lat_y_CA.cpu().detach().numpy())               \n",
        "        lat_pred_CA = np.concatenate(lat_pred_CA)\n",
        "        lat_pred_CA = lat_pred_CA[:,0].reshape(-1,1) \n",
        "\n",
        "\n",
        "        for lat_test_2 in loader_CON:\n",
        "            lat_test_2 = lat_test_2.cuda()\n",
        "            lat_y_ED = lat_model_ED(lat_test_2)\n",
        "            lat_y_ED = torch.sigmoid(lat_y_ED)\n",
        "            lat_pred_ED.append(lat_y_ED.cpu().detach().numpy())               \n",
        "        lat_pred_ED = np.concatenate(lat_pred_ED)\n",
        "\n",
        "\n",
        "\n",
        "        for lat_test_3 in loader_CON:\n",
        "            lat_test_3 = lat_test_3.cuda()\n",
        "            lat_y_CON = lat_model_CON(lat_test_3)\n",
        "            lat_y_CON = torch.sigmoid(lat_y_CON)\n",
        "            lat_pred_CON.append(lat_y_CON.cpu().detach().numpy())               \n",
        "        lat_pred_CON = np.concatenate(lat_pred_CON)      \n",
        "\n",
        "\n",
        "        for lat_test_4 in loader_CON:\n",
        "            lat_test_4 = lat_test_4.cuda()\n",
        "            lat_y_AT = lat_model_At(lat_test_4)\n",
        "            lat_y_AT = torch.sigmoid(lat_y_AT)\n",
        "            lat_pred_AT.append(lat_y_AT.cpu().detach().numpy())               \n",
        "        lat_pred_AT = np.concatenate(lat_pred_AT) \n",
        "\n",
        "        for lat_test_5 in loader_CON:\n",
        "            lat_test_5 = lat_test_5.cuda()\n",
        "            lat_y_PE = lat_model_PE(lat_test_5)\n",
        "            lat_y_PE = torch.sigmoid(lat_y_PE)\n",
        "            lat_pred_PE.append(lat_y_PE.cpu().detach().numpy())               \n",
        "        lat_pred_PE = np.concatenate(lat_pred_PE) \n",
        "\n",
        "\n",
        "        test_pred = np.concatenate((pred_CA, pred_ED, pred_CON, pred_AT, pred_PE) , axis = 1)\n",
        "        lat_test_pred = np.concatenate((lat_pred_CA, lat_pred_ED, lat_pred_CON, lat_pred_AT, lat_pred_PE) , axis = 1)\n",
        "\n"
      ],
      "metadata": {
        "id": "B4hjaR_dEuNL",
        "colab": {
          "base_uri": "https://localhost:8080/"
        },
        "outputId": "b95ce621-1a4f-44a7-bdad-564ff7a837b8"
      },
      "execution_count": null,
      "outputs": [
        {
          "output_type": "stream",
          "name": "stdout",
          "text": [
            "LOADING FRONTAL MODELS\n"
          ]
        },
        {
          "output_type": "stream",
          "name": "stderr",
          "text": [
            "/usr/local/lib/python3.7/dist-packages/torchvision/models/_utils.py:209: UserWarning: The parameter 'pretrained' is deprecated since 0.13 and will be removed in 0.15, please use 'weights' instead.\n",
            "  f\"The parameter '{pretrained_param}' is deprecated since 0.13 and will be removed in 0.15, \"\n",
            "/usr/local/lib/python3.7/dist-packages/torchvision/models/_utils.py:223: UserWarning: Arguments other than a weight enum or `None` for 'weights' are deprecated since 0.13 and will be removed in 0.15. The current behavior is equivalent to passing `weights=None`.\n",
            "  warnings.warn(msg)\n"
          ]
        },
        {
          "output_type": "stream",
          "name": "stdout",
          "text": [
            "LOADING LATERAL MODELS\n",
            "PREDICTING STARTED, It \n"
          ]
        }
      ]
    },
    {
      "cell_type": "code",
      "source": [
        "content_front = np.concatenate((test_CA.get_path, test_pred), axis=1) \n",
        "content_lat = np.concatenate((test_CA.get_path, lat_test_pred), axis=1) \n",
        "content = []\n",
        "for idx in range (len(content_front)):\n",
        "    path = content_front[idx, 0].split('/')\n",
        "    view_type = path[-1]\n",
        "    if 'lateral' in view_type:  \n",
        "      content.append(content_lat[idx, :])\n",
        "    else :\n",
        "      content.append(content_front[idx, :])\n",
        "content = np.array(content)"
      ],
      "metadata": {
        "id": "xzj0WyJHeYq0"
      },
      "execution_count": null,
      "outputs": []
    },
    {
      "cell_type": "code",
      "source": [
        "Root= '/content/CheXpert-v1.0-small/'"
      ],
      "metadata": {
        "id": "vLzLgkVxRw2u"
      },
      "execution_count": null,
      "outputs": []
    },
    {
      "cell_type": "code",
      "source": [
        "Lala =  Chex(csv_path=Root+'valid.csv', train_cols=['Cardiomegaly', 'Edema', 'Consolidation', 'Atelectasis',  'Pleural Effusion'],image_root_path=Root, use_upsampling=False, use_frontal=False ,image_size=224, mode='valid',shuffle=False , class_index=-1, verbose=False)\n",
        "ALL =  torch.utils.data.DataLoader(Lala, batch_size=1, num_workers=1, shuffle=False)\n",
        "\n"
      ],
      "metadata": {
        "id": "ss5w1yh4eOpP",
        "colab": {
          "base_uri": "https://localhost:8080/"
        },
        "outputId": "b7ce7c73-b921-4355-ae44-288004341522"
      },
      "execution_count": null,
      "outputs": [
        {
          "output_type": "stream",
          "name": "stderr",
          "text": [
            "/content/chexpert_2.py:35: FutureWarning: The default value of regex will change from True to False in a future version.\n",
            "  self.df['Path'] = self.df['Path'].str.replace('CheXpert-v1.0-small/', '')\n",
            "/content/chexpert_2.py:36: FutureWarning: The default value of regex will change from True to False in a future version.\n",
            "  self.df['Path'] = self.df['Path'].str.replace('CheXpert-v1.0/', '')\n"
          ]
        }
      ]
    },
    {
      "cell_type": "code",
      "source": [
        "test_true = [] \n"
      ],
      "metadata": {
        "id": "7BVjxi-HgiBg"
      },
      "execution_count": null,
      "outputs": []
    },
    {
      "cell_type": "code",
      "source": [
        "for jdx, data in enumerate(ALL):\n",
        "    test_data, test_labels = data\n",
        "    test_true.append(test_labels.cpu().numpy())\n",
        "test_true = np.concatenate(test_true)\n"
      ],
      "metadata": {
        "id": "hxUJYDATee2e"
      },
      "execution_count": null,
      "outputs": []
    },
    {
      "cell_type": "code",
      "source": [
        "Hero = content[: , 1:]"
      ],
      "metadata": {
        "id": "SGsa68bwgLB2"
      },
      "execution_count": null,
      "outputs": []
    },
    {
      "cell_type": "code",
      "source": [
        "labels = ['Cardiomegaly', 'Edema', 'Consolidation', 'Atelectasis',  'Pleural Effusion']\n",
        "\n",
        "results = pd.DataFrame(index=labels)\n",
        "\n",
        "\n",
        "scores = []\n",
        "for i in range(5):\n",
        "    score = roc_auc_score(test_true[:, i], Hero[:, i])\n",
        "    scores.append(score)\n",
        "    \n",
        "results['AUC'] = scores"
      ],
      "metadata": {
        "id": "ySH727TtgVeJ"
      },
      "execution_count": null,
      "outputs": []
    },
    {
      "cell_type": "code",
      "source": [
        "results.mean()"
      ],
      "metadata": {
        "colab": {
          "base_uri": "https://localhost:8080/"
        },
        "id": "mgpyjHJJgqaX",
        "outputId": "af2a2f75-8b82-4fc4-e7b2-338bf1415e61"
      },
      "execution_count": null,
      "outputs": [
        {
          "output_type": "execute_result",
          "data": {
            "text/plain": [
              "AUC    0.932748\n",
              "dtype: float64"
            ]
          },
          "metadata": {},
          "execution_count": 12
        }
      ]
    },
    {
      "cell_type": "code",
      "source": [
        "results"
      ],
      "metadata": {
        "id": "BRTWUc1oi9Wd",
        "outputId": "c55ff4d9-9baf-4260-977a-9e25fecd507a",
        "colab": {
          "base_uri": "https://localhost:8080/",
          "height": 206
        }
      },
      "execution_count": null,
      "outputs": [
        {
          "output_type": "execute_result",
          "data": {
            "text/plain": [
              "                       AUC\n",
              "Cardiomegaly      0.899717\n",
              "Edema             0.962257\n",
              "Consolidation     0.958239\n",
              "Atelectasis       0.890179\n",
              "Pleural Effusion  0.953347"
            ],
            "text/html": [
              "\n",
              "  <div id=\"df-85a1b474-79ff-41e1-b238-1738167e8dff\">\n",
              "    <div class=\"colab-df-container\">\n",
              "      <div>\n",
              "<style scoped>\n",
              "    .dataframe tbody tr th:only-of-type {\n",
              "        vertical-align: middle;\n",
              "    }\n",
              "\n",
              "    .dataframe tbody tr th {\n",
              "        vertical-align: top;\n",
              "    }\n",
              "\n",
              "    .dataframe thead th {\n",
              "        text-align: right;\n",
              "    }\n",
              "</style>\n",
              "<table border=\"1\" class=\"dataframe\">\n",
              "  <thead>\n",
              "    <tr style=\"text-align: right;\">\n",
              "      <th></th>\n",
              "      <th>AUC</th>\n",
              "    </tr>\n",
              "  </thead>\n",
              "  <tbody>\n",
              "    <tr>\n",
              "      <th>Cardiomegaly</th>\n",
              "      <td>0.899717</td>\n",
              "    </tr>\n",
              "    <tr>\n",
              "      <th>Edema</th>\n",
              "      <td>0.962257</td>\n",
              "    </tr>\n",
              "    <tr>\n",
              "      <th>Consolidation</th>\n",
              "      <td>0.958239</td>\n",
              "    </tr>\n",
              "    <tr>\n",
              "      <th>Atelectasis</th>\n",
              "      <td>0.890179</td>\n",
              "    </tr>\n",
              "    <tr>\n",
              "      <th>Pleural Effusion</th>\n",
              "      <td>0.953347</td>\n",
              "    </tr>\n",
              "  </tbody>\n",
              "</table>\n",
              "</div>\n",
              "      <button class=\"colab-df-convert\" onclick=\"convertToInteractive('df-85a1b474-79ff-41e1-b238-1738167e8dff')\"\n",
              "              title=\"Convert this dataframe to an interactive table.\"\n",
              "              style=\"display:none;\">\n",
              "        \n",
              "  <svg xmlns=\"http://www.w3.org/2000/svg\" height=\"24px\"viewBox=\"0 0 24 24\"\n",
              "       width=\"24px\">\n",
              "    <path d=\"M0 0h24v24H0V0z\" fill=\"none\"/>\n",
              "    <path d=\"M18.56 5.44l.94 2.06.94-2.06 2.06-.94-2.06-.94-.94-2.06-.94 2.06-2.06.94zm-11 1L8.5 8.5l.94-2.06 2.06-.94-2.06-.94L8.5 2.5l-.94 2.06-2.06.94zm10 10l.94 2.06.94-2.06 2.06-.94-2.06-.94-.94-2.06-.94 2.06-2.06.94z\"/><path d=\"M17.41 7.96l-1.37-1.37c-.4-.4-.92-.59-1.43-.59-.52 0-1.04.2-1.43.59L10.3 9.45l-7.72 7.72c-.78.78-.78 2.05 0 2.83L4 21.41c.39.39.9.59 1.41.59.51 0 1.02-.2 1.41-.59l7.78-7.78 2.81-2.81c.8-.78.8-2.07 0-2.86zM5.41 20L4 18.59l7.72-7.72 1.47 1.35L5.41 20z\"/>\n",
              "  </svg>\n",
              "      </button>\n",
              "      \n",
              "  <style>\n",
              "    .colab-df-container {\n",
              "      display:flex;\n",
              "      flex-wrap:wrap;\n",
              "      gap: 12px;\n",
              "    }\n",
              "\n",
              "    .colab-df-convert {\n",
              "      background-color: #E8F0FE;\n",
              "      border: none;\n",
              "      border-radius: 50%;\n",
              "      cursor: pointer;\n",
              "      display: none;\n",
              "      fill: #1967D2;\n",
              "      height: 32px;\n",
              "      padding: 0 0 0 0;\n",
              "      width: 32px;\n",
              "    }\n",
              "\n",
              "    .colab-df-convert:hover {\n",
              "      background-color: #E2EBFA;\n",
              "      box-shadow: 0px 1px 2px rgba(60, 64, 67, 0.3), 0px 1px 3px 1px rgba(60, 64, 67, 0.15);\n",
              "      fill: #174EA6;\n",
              "    }\n",
              "\n",
              "    [theme=dark] .colab-df-convert {\n",
              "      background-color: #3B4455;\n",
              "      fill: #D2E3FC;\n",
              "    }\n",
              "\n",
              "    [theme=dark] .colab-df-convert:hover {\n",
              "      background-color: #434B5C;\n",
              "      box-shadow: 0px 1px 3px 1px rgba(0, 0, 0, 0.15);\n",
              "      filter: drop-shadow(0px 1px 2px rgba(0, 0, 0, 0.3));\n",
              "      fill: #FFFFFF;\n",
              "    }\n",
              "  </style>\n",
              "\n",
              "      <script>\n",
              "        const buttonEl =\n",
              "          document.querySelector('#df-85a1b474-79ff-41e1-b238-1738167e8dff button.colab-df-convert');\n",
              "        buttonEl.style.display =\n",
              "          google.colab.kernel.accessAllowed ? 'block' : 'none';\n",
              "\n",
              "        async function convertToInteractive(key) {\n",
              "          const element = document.querySelector('#df-85a1b474-79ff-41e1-b238-1738167e8dff');\n",
              "          const dataTable =\n",
              "            await google.colab.kernel.invokeFunction('convertToInteractive',\n",
              "                                                     [key], {});\n",
              "          if (!dataTable) return;\n",
              "\n",
              "          const docLinkHtml = 'Like what you see? Visit the ' +\n",
              "            '<a target=\"_blank\" href=https://colab.research.google.com/notebooks/data_table.ipynb>data table notebook</a>'\n",
              "            + ' to learn more about interactive tables.';\n",
              "          element.innerHTML = '';\n",
              "          dataTable['output_type'] = 'display_data';\n",
              "          await google.colab.output.renderOutput(dataTable, element);\n",
              "          const docLink = document.createElement('div');\n",
              "          docLink.innerHTML = docLinkHtml;\n",
              "          element.appendChild(docLink);\n",
              "        }\n",
              "      </script>\n",
              "    </div>\n",
              "  </div>\n",
              "  "
            ]
          },
          "metadata": {},
          "execution_count": 13
        }
      ]
    },
    {
      "cell_type": "code",
      "source": [
        "from sklearn.metrics import roc_auc_score, roc_curve, auc\n",
        "fpr, tpr, threshold = roc_curve(test_true[:, 0], Hero[:, 0])\n",
        "roc_auc = auc(fpr, tpr)\n",
        "\n",
        "plt.title('Cardiomegaly - ROC Curve')\n",
        "plt.plot(fpr, tpr, 'b', label = 'AUC = %0.2f' % roc_auc)\n",
        "plt.legend(loc = 'lower right')\n",
        "plt.plot([0, 1], [0, 1],'r--')\n",
        "plt.xlim([0, 1])\n",
        "plt.ylim([0, 1.1])\n",
        "plt.ylabel('True Positive Rate')\n",
        "plt.xlabel('False Positive Rate')\n",
        "\n",
        "plt.savefig('Cardiomegaly Curve', bbox_inches='tight')\n",
        "plt.show()"
      ],
      "metadata": {
        "colab": {
          "base_uri": "https://localhost:8080/",
          "height": 295
        },
        "id": "hPGRh-5zLKRr",
        "outputId": "dc7ff2b1-03cd-41aa-bf86-a22b7ae0296f"
      },
      "execution_count": null,
      "outputs": [
        {
          "output_type": "display_data",
          "data": {
            "text/plain": [
              "<Figure size 432x288 with 1 Axes>"
            ],
            "image/png": "[encoded data removed]"
          },
          "metadata": {
            "needs_background": "light"
          }
        }
      ]
    },
    {
      "cell_type": "code",
      "source": [
        "fpr, tpr, threshold = roc_curve(test_true[:, 1], Hero[:, 1])\n",
        "roc_auc = auc(fpr, tpr)\n",
        "roc_auc = auc(fpr, tpr)\n",
        "plt.title('Edema - ROC Curve')\n",
        "plt.plot(fpr, tpr, 'b', label = 'AUC = %0.3f' % roc_auc)\n",
        "plt.legend(loc = 'lower right')\n",
        "plt.plot([0, 1], [0, 1],'r--')\n",
        "plt.xlim([0, 1])\n",
        "plt.ylim([0, 1.1])\n",
        "plt.ylabel('True Positive Rate')\n",
        "plt.xlabel('False Positive Rate')\n",
        "\n",
        "plt.savefig('Edema Curve', bbox_inches='tight')\n",
        "plt.show()"
      ],
      "metadata": {
        "colab": {
          "base_uri": "https://localhost:8080/",
          "height": 295
        },
        "id": "DyqT9GdXL4XT",
        "outputId": "157e3caa-fabd-494c-a91e-3f4f93f373f2"
      },
      "execution_count": null,
      "outputs": [
        {
          "output_type": "display_data",
          "data": {
            "text/plain": [
              "<Figure size 432x288 with 1 Axes>"
            ],
            "image/png": "[encoded data removed]"
          },
          "metadata": {
            "needs_background": "light"
          }
        }
      ]
    },
    {
      "cell_type": "code",
      "source": [
        "fpr, tpr, threshold = roc_curve(test_true[:, 2], Hero[:, 2])\n",
        "roc_auc = auc(fpr, tpr)\n",
        "roc_auc = auc(fpr, tpr)\n",
        "plt.title('Consolidation - ROC Curve')\n",
        "plt.plot(fpr, tpr, 'b', label = 'AUC = %0.3f' % roc_auc)\n",
        "plt.legend(loc = 'lower right')\n",
        "plt.plot([0, 1], [0, 1],'r--')\n",
        "plt.xlim([0, 1])\n",
        "plt.ylim([0, 1.1])\n",
        "plt.ylabel('True Positive Rate')\n",
        "plt.xlabel('False Positive Rate')\n",
        "\n",
        "plt.savefig('Edema Curve', bbox_inches='tight')\n",
        "plt.show()"
      ],
      "metadata": {
        "colab": {
          "base_uri": "https://localhost:8080/",
          "height": 295
        },
        "id": "JlGn-SbXMKe9",
        "outputId": "5ab85ced-d5cf-4a8c-b66d-7dee07a7b16e"
      },
      "execution_count": null,
      "outputs": [
        {
          "output_type": "display_data",
          "data": {
            "text/plain": [
              "<Figure size 432x288 with 1 Axes>"
            ],
            "image/png": "[encoded data removed]"
          },
          "metadata": {
            "needs_background": "light"
          }
        }
      ]
    },
    {
      "cell_type": "code",
      "source": [
        "fpr, tpr, threshold = roc_curve(test_true[:, 3], Hero[:, 3])\n",
        "roc_auc = auc(fpr, tpr)\n",
        "roc_auc = auc(fpr, tpr)\n",
        "plt.title('Atelectasis\t - ROC Curve')\n",
        "plt.plot(fpr, tpr, 'b', label = 'AUC = %0.3f' % roc_auc)\n",
        "plt.legend(loc = 'lower right')\n",
        "plt.plot([0, 1], [0, 1],'r--')\n",
        "plt.xlim([0, 1])\n",
        "plt.ylim([0, 1.1])\n",
        "plt.ylabel('True Positive Rate')\n",
        "plt.xlabel('False Positive Rate')\n",
        "\n",
        "plt.savefig('Edema Curve', bbox_inches='tight')\n",
        "plt.show()"
      ],
      "metadata": {
        "colab": {
          "base_uri": "https://localhost:8080/",
          "height": 369
        },
        "id": "iC70zKyTMQ5F",
        "outputId": "f1bb6d43-c974-4d26-cfe8-9a7e70ab676a"
      },
      "execution_count": null,
      "outputs": [
        {
          "output_type": "stream",
          "name": "stderr",
          "text": [
            "/usr/local/lib/python3.7/dist-packages/matplotlib/backends/backend_agg.py:214: RuntimeWarning: Glyph 9 missing from current font.\n",
            "  font.set_text(s, 0.0, flags=flags)\n",
            "/usr/local/lib/python3.7/dist-packages/matplotlib/backends/backend_agg.py:183: RuntimeWarning: Glyph 9 missing from current font.\n",
            "  font.set_text(s, 0, flags=flags)\n"
          ]
        },
        {
          "output_type": "display_data",
          "data": {
            "text/plain": [
              "<Figure size 432x288 with 1 Axes>"
            ],
            "image/png": "[encoded data removed]"
          },
          "metadata": {
            "needs_background": "light"
          }
        }
      ]
    },
    {
      "cell_type": "code",
      "source": [
        "fpr, tpr, threshold = roc_curve(test_true[:, 4], Hero[:, 4])\n",
        "roc_auc = auc(fpr, tpr)\n",
        "roc_auc = auc(fpr, tpr)\n",
        "plt.title('Pleural Effusion - ROC Curve')\n",
        "plt.plot(fpr, tpr, 'b', label = 'AUC = %0.3f' % roc_auc)\n",
        "plt.legend(loc = 'lower right')\n",
        "plt.plot([0, 1], [0, 1],'r--')\n",
        "plt.xlim([0, 1])\n",
        "plt.ylim([0, 1.1])\n",
        "plt.ylabel('True Positive Rate')\n",
        "plt.xlabel('False Positive Rate')\n",
        "\n",
        "plt.savefig('Edema Curve', bbox_inches='tight')\n",
        "plt.show()"
      ],
      "metadata": {
        "colab": {
          "base_uri": "https://localhost:8080/",
          "height": 295
        },
        "id": "u84pfsy8MSiz",
        "outputId": "3d907f0e-f82b-4556-a965-933ccb7af77c"
      },
      "execution_count": null,
      "outputs": [
        {
          "output_type": "display_data",
          "data": {
            "text/plain": [
              "<Figure size 432x288 with 1 Axes>"
            ],
            "image/png": "[encoded data removed]"
          },
          "metadata": {
            "needs_background": "light"
          }
        }
      ]
    }
  ]
}