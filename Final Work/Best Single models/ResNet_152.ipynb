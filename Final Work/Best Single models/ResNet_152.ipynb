{
  "cells": [
    {
      "cell_type": "code",
      "execution_count": null,
      "metadata": {
        "colab": {
          "base_uri": "https://localhost:8080/"
        },
        "id": "UbCQhIOOOYD6",
        "outputId": "3c3a05cd-da93-4b1a-842e-34b72e9e7b0a"
      },
      "outputs": [
        {
          "output_type": "stream",
          "name": "stdout",
          "text": [
            "Mounted at /content/drive\n"
          ]
        }
      ],
      "source": [
        "from google.colab import drive\n",
        "drive.mount('/content/drive')"
      ]
    },
    {
      "cell_type": "code",
      "source": [
        "!nvidia-smi -L"
      ],
      "metadata": {
        "colab": {
          "base_uri": "https://localhost:8080/"
        },
        "id": "1BFMewjPicrE",
        "outputId": "84501af4-9fb4-429b-d1c8-a79c7b7f0271"
      },
      "execution_count": null,
      "outputs": [
        {
          "output_type": "stream",
          "name": "stdout",
          "text": [
            "GPU 0: Tesla P100-PCIE-16GB (UUID: GPU-70e763da-f0c1-a491-a798-7cf8b77e9518)\n"
          ]
        }
      ]
    },
    {
      "cell_type": "code",
      "execution_count": null,
      "metadata": {
        "id": "ezLUMrGkOhNJ"
      },
      "outputs": [],
      "source": [
        "!unzip /content/drive/MyDrive/CHEXPERT/CheXpert-v1.0-small.zip > /dev/null"
      ]
    },
    {
      "cell_type": "code",
      "source": [
        "!pip install timm > /dev/null"
      ],
      "metadata": {
        "id": "_8dlabuqhhwh"
      },
      "execution_count": null,
      "outputs": []
    },
    {
      "cell_type": "code",
      "execution_count": null,
      "metadata": {
        "id": "HV-lvLWUOi9V"
      },
      "outputs": [],
      "source": [
        "import cv2\n",
        "import numpy as np \n",
        "import pandas as pd\n",
        "\n",
        "import matplotlib.pyplot as plt\n",
        "\n",
        "import torch \n",
        "from torch import nn\n",
        "from torchsummary import summary\n",
        "\n",
        "import timm\n",
        "from torch.optim import Adam, lr_scheduler\n",
        "\n",
        "from myGen import MyGen\n",
        "\n",
        "from sklearn.metrics import roc_auc_score"
      ]
    },
    {
      "cell_type": "code",
      "source": [
        "train = pd.read_csv('/content/CheXpert-v1.0-small/train.csv')"
      ],
      "metadata": {
        "id": "aDfe4k8_jXW3"
      },
      "execution_count": null,
      "outputs": []
    },
    {
      "cell_type": "code",
      "source": [
        "train.loc[:, train.columns[5:]] = train.loc[:, train.columns[5:]].fillna(0)\n",
        "\n",
        "zeros = ['Cardiomegaly', 'Consolidation', 'Pleural Effusion']\n",
        "train.loc[:, zeros] = train.loc[:, zeros].replace({-1:0})\n",
        "ones = ['Edema', 'Atelectasis']\n",
        "train.loc[:, ones] = train.loc[:, ones].replace({-1:1})\n",
        "\n",
        "train = train[['Path', 'Frontal/Lateral', 'Cardiomegaly', 'Edema', 'Consolidation', 'Atelectasis', 'Pleural Effusion']].copy() "
      ],
      "metadata": {
        "id": "bmWkX4FljjbT"
      },
      "execution_count": null,
      "outputs": []
    },
    {
      "cell_type": "code",
      "source": [
        "train.to_csv('/content/CheXpert-v1.0-small/train_edited.csv', index=False)"
      ],
      "metadata": {
        "id": "ze6PDyvtkQR6"
      },
      "execution_count": null,
      "outputs": []
    },
    {
      "cell_type": "code",
      "execution_count": null,
      "metadata": {
        "id": "WhX4hTCnAt68"
      },
      "outputs": [],
      "source": [
        "save_weights_path = '/content/drive/MyDrive/Final_Weights/Z_resnet152_320.pth'\n",
        "load_weights_path = '/content/drive/MyDrive/Final_Weights/Z_resnet152_320_load.pth'"
      ]
    },
    {
      "cell_type": "code",
      "source": [
        "timm.list_models(pretrained=True)"
      ],
      "metadata": {
        "id": "9VhaJuqzi7FJ"
      },
      "execution_count": null,
      "outputs": []
    },
    {
      "cell_type": "code",
      "source": [
        "model = timm.create_model('resnet152', num_classes=5, pretrained=True)\n",
        "model = model.cuda()\n",
        "\n",
        "# summary(model, (3, 224, 224), batch_size=64, device='cuda')"
      ],
      "metadata": {
        "id": "B1Ccjd9kMYX6"
      },
      "execution_count": null,
      "outputs": []
    },
    {
      "cell_type": "code",
      "source": [
        "def get_lr(optimizer):\n",
        "    for param_group in optimizer.param_groups:\n",
        "        return param_group['lr']"
      ],
      "metadata": {
        "id": "rteLJ084NtTA"
      },
      "execution_count": null,
      "outputs": []
    },
    {
      "cell_type": "code",
      "execution_count": null,
      "metadata": {
        "id": "h1-qVWyinYT5",
        "colab": {
          "base_uri": "https://localhost:8080/"
        },
        "outputId": "fa3982d5-a839-46cf-de50-2f9c4c290387"
      },
      "outputs": [
        {
          "output_type": "stream",
          "name": "stdout",
          "text": [
            "Epoch=0, BatchID=0, Val_AUC=0.4661, Best_Val_AUC=0.4661, lr=0.001000\n",
            "Epoch=0, BatchID=800, Val_AUC=0.8481, Best_Val_AUC=0.8481, lr=0.001000\n",
            "Epoch=0, BatchID=1600, Val_AUC=0.8444, Best_Val_AUC=0.8481, lr=0.001000\n",
            "Epoch=0, BatchID=2400, Val_AUC=0.8678, Best_Val_AUC=0.8678, lr=0.001000\n",
            "Epoch=0, BatchID=3200, Val_AUC=0.8382, Best_Val_AUC=0.8678, lr=0.001000\n",
            "Epoch=0, BatchID=4000, Val_AUC=0.8700, Best_Val_AUC=0.8700, lr=0.001000\n",
            "Epoch=0, BatchID=4800, Val_AUC=0.8856, Best_Val_AUC=0.8856, lr=0.001000\n",
            "Epoch=0, BatchID=5600, Val_AUC=0.8600, Best_Val_AUC=0.8856, lr=0.001000\n",
            "Epoch=1, BatchID=0, Val_AUC=0.7272, Best_Val_AUC=0.8856, lr=0.001000\n",
            "Epoch=1, BatchID=800, Val_AUC=0.8763, Best_Val_AUC=0.8856, lr=0.001000\n",
            "Epoch=1, BatchID=1600, Val_AUC=0.8578, Best_Val_AUC=0.8856, lr=0.001000\n",
            "Epoch=1, BatchID=2400, Val_AUC=0.7296, Best_Val_AUC=0.8856, lr=0.000500\n",
            "Epoch=1, BatchID=3200, Val_AUC=0.8883, Best_Val_AUC=0.8883, lr=0.000500\n",
            "Epoch=1, BatchID=4000, Val_AUC=0.8878, Best_Val_AUC=0.8883, lr=0.000500\n",
            "Epoch=1, BatchID=4800, Val_AUC=0.8997, Best_Val_AUC=0.8997, lr=0.000500\n",
            "Epoch=1, BatchID=5600, Val_AUC=0.8872, Best_Val_AUC=0.8997, lr=0.000500\n",
            "Epoch=2, BatchID=0, Val_AUC=0.9062, Best_Val_AUC=0.9062, lr=0.000500\n",
            "Epoch=2, BatchID=800, Val_AUC=0.8783, Best_Val_AUC=0.9062, lr=0.000500\n",
            "Epoch=2, BatchID=1600, Val_AUC=0.8844, Best_Val_AUC=0.9062, lr=0.000500\n",
            "Epoch=2, BatchID=2400, Val_AUC=0.8834, Best_Val_AUC=0.9062, lr=0.000500\n",
            "Epoch=2, BatchID=3200, Val_AUC=0.8808, Best_Val_AUC=0.9062, lr=0.000500\n",
            "Epoch=2, BatchID=4000, Val_AUC=0.8939, Best_Val_AUC=0.9062, lr=0.000250\n",
            "Epoch=2, BatchID=4800, Val_AUC=0.8879, Best_Val_AUC=0.9062, lr=0.000250\n",
            "Epoch=2, BatchID=5600, Val_AUC=0.8879, Best_Val_AUC=0.9062, lr=0.000250\n",
            "Epoch=3, BatchID=0, Val_AUC=0.9010, Best_Val_AUC=0.9062, lr=0.000250\n",
            "Epoch=3, BatchID=800, Val_AUC=0.8886, Best_Val_AUC=0.9062, lr=0.000250\n",
            "Epoch=3, BatchID=1600, Val_AUC=0.8977, Best_Val_AUC=0.9062, lr=0.000250\n",
            "Epoch=3, BatchID=2400, Val_AUC=0.8972, Best_Val_AUC=0.9062, lr=0.000125\n",
            "Epoch=3, BatchID=3200, Val_AUC=0.8913, Best_Val_AUC=0.9062, lr=0.000125\n",
            "Epoch=3, BatchID=4000, Val_AUC=0.8914, Best_Val_AUC=0.9062, lr=0.000125\n",
            "Epoch=3, BatchID=4800, Val_AUC=0.8967, Best_Val_AUC=0.9062, lr=0.000125\n",
            "Epoch=3, BatchID=5600, Val_AUC=0.8965, Best_Val_AUC=0.9062, lr=0.000125\n",
            "Epoch=4, BatchID=0, Val_AUC=0.8910, Best_Val_AUC=0.9062, lr=0.000125\n",
            "Epoch=4, BatchID=800, Val_AUC=0.8926, Best_Val_AUC=0.9062, lr=0.000063\n",
            "Epoch=4, BatchID=1600, Val_AUC=0.8917, Best_Val_AUC=0.9062, lr=0.000063\n",
            "Epoch=4, BatchID=2400, Val_AUC=0.8997, Best_Val_AUC=0.9062, lr=0.000063\n",
            "Epoch=4, BatchID=3200, Val_AUC=0.8942, Best_Val_AUC=0.9062, lr=0.000063\n",
            "Epoch=4, BatchID=4000, Val_AUC=0.8996, Best_Val_AUC=0.9062, lr=0.000063\n",
            "Epoch=4, BatchID=4800, Val_AUC=0.8973, Best_Val_AUC=0.9062, lr=0.000063\n",
            "Epoch=4, BatchID=5600, Val_AUC=0.8963, Best_Val_AUC=0.9062, lr=0.000031\n"
          ]
        }
      ],
      "source": [
        "root = '/content/'\n",
        "\n",
        "trainGen = MyGen(image_root_path=root, \n",
        "                 csv_path='CheXpert-v1.0-small/train_edited.csv', \n",
        "                 image_size=320, \n",
        "                 frontal=True)\n",
        "\n",
        "valGen =  MyGen(image_root_path=root, \n",
        "                 csv_path='CheXpert-v1.0-small/valid.csv', \n",
        "                 image_size=320, \n",
        "                 frontal=True)\n",
        "\n",
        "trainloader =  torch.utils.data.DataLoader(trainGen, batch_size=32, shuffle=True)\n",
        "testloader =  torch.utils.data.DataLoader(valGen, batch_size=1, shuffle=False)\n",
        "\n",
        "# define loss & optimizer\n",
        "Loss = nn.BCELoss()\n",
        "\n",
        "optimizer = Adam(model.parameters(), lr=1e-3)\n",
        "\n",
        "scheduler = lr_scheduler.StepLR(optimizer, step_size=5, gamma=0.5)  # Decay LR by a factor of 0.5 every 5 epochs\n",
        "\n",
        "#model.load_state_dict(torch.load(load_weights_path))\n",
        "\n",
        "# training\n",
        "const_threshold = 5\n",
        "\n",
        "val_auc_mean = 0\n",
        "best_val_auc = 0\n",
        "const_cnt = 0\n",
        "\n",
        "for epoch in range(5):\n",
        "\n",
        "    for idx, data in enumerate(trainloader):\n",
        "      train_data, train_labels = data\n",
        "      train_data, train_labels  = train_data.cuda(), train_labels.cuda()\n",
        "      y_pred = model(train_data)\n",
        "      y_pred = torch.sigmoid(y_pred)\n",
        "      loss = Loss(y_pred, train_labels)\n",
        "\n",
        "      optimizer.zero_grad()\n",
        "      loss.backward()\n",
        "      optimizer.step()\n",
        "        \n",
        "      # validation  \n",
        "      if idx % 800 == 0:\n",
        "         model.eval()\n",
        "         with torch.no_grad():    \n",
        "              test_pred = []\n",
        "              test_true = [] \n",
        "              for data in testloader:\n",
        "                  test_data, test_labels = data\n",
        "                  test_data = test_data.cuda()\n",
        "                  y_pred = model(test_data)\n",
        "                  y_pred = torch.sigmoid(y_pred)\n",
        "                  test_pred.append(y_pred.cpu().detach().numpy())            \n",
        "                  test_true.append(test_labels.numpy())\n",
        "            \n",
        "              test_true = np.concatenate(test_true)\n",
        "              test_pred = np.concatenate(test_pred)\n",
        "              val_auc_mean =  roc_auc_score(test_true, test_pred) \n",
        "              model.train()\n",
        "\n",
        "              if best_val_auc < val_auc_mean:\n",
        "                  const_cnt = 0\n",
        "                  scheduler = lr_scheduler.StepLR(optimizer, step_size=5, gamma=0.5)\n",
        "                  best_val_auc = val_auc_mean\n",
        "                  torch.save(model.state_dict(), save_weights_path)\n",
        "              else:\n",
        "                  const_cnt += 1\n",
        "                  scheduler.step()            \n",
        "\n",
        "              if (const_cnt > const_threshold):\n",
        "                  const_cnt = 0 \n",
        "                  scheduler = lr_scheduler.StepLR(optimizer, step_size=5, gamma=0.5)\n",
        "                  model.load_state_dict(torch.load(save_weights_path))\n",
        "                               \n",
        "              lr = get_lr(optimizer)\n",
        "\n",
        "              print ('Epoch=%s, BatchID=%s, Val_AUC=%.4f, Best_Val_AUC=%.4f, lr=%f' %(epoch, idx, val_auc_mean, best_val_auc, lr))"
      ]
    },
    {
      "cell_type": "code",
      "execution_count": null,
      "metadata": {
        "id": "vcOQiYC1Hj32"
      },
      "outputs": [],
      "source": [
        "root = '/content/'\n",
        "testGen =  MyGen(image_root_path=root, \n",
        "                 csv_path='CheXpert-v1.0-small/valid.csv', \n",
        "                 image_size=224, \n",
        "                 frontal=True)\n",
        "\n",
        "testloader =  torch.utils.data.DataLoader(testGen, batch_size=1, shuffle=False)"
      ]
    },
    {
      "cell_type": "code",
      "execution_count": null,
      "metadata": {
        "id": "GEK6mJxhq31H",
        "colab": {
          "base_uri": "https://localhost:8080/"
        },
        "outputId": "5348c79d-d8d6-42d4-ac0b-4e6dd3d794a6"
      },
      "outputs": [
        {
          "output_type": "execute_result",
          "data": {
            "text/plain": [
              "<All keys matched successfully>"
            ]
          },
          "metadata": {},
          "execution_count": 10
        }
      ],
      "source": [
        "model.load_state_dict(torch.load(save_weights_path))"
      ]
    },
    {
      "cell_type": "code",
      "execution_count": null,
      "metadata": {
        "id": "zpe-z8zxDyrG"
      },
      "outputs": [],
      "source": [
        "model.eval()\n",
        "with torch.no_grad():    \n",
        "    test_pred = []\n",
        "    test_true = [] \n",
        "    for data in testloader:\n",
        "        test_data, test_labels = data\n",
        "        test_data = test_data.cuda()\n",
        "        y_pred = model(test_data)\n",
        "        y_pred = torch.sigmoid(y_pred)\n",
        "        test_pred.append(y_pred.cpu().detach().numpy())\n",
        "        test_true.append(test_labels.numpy())\n",
        "  \n",
        "    test_true = np.concatenate(test_true)\n",
        "    test_pred = np.concatenate(test_pred)"
      ]
    },
    {
      "cell_type": "code",
      "execution_count": null,
      "metadata": {
        "id": "fv7xxNPVOsS5"
      },
      "outputs": [],
      "source": [
        "labels = ['Cardiomegaly', 'Edema', 'Consolidation', 'Atelectasis', 'Pleural Effusion']\n",
        "\n",
        "results = pd.DataFrame(index=labels)\n",
        "\n",
        "\n",
        "scores = []\n",
        "for i in range(5):\n",
        "    score = roc_auc_score(test_true[:, i], test_pred[:, i])\n",
        "    scores.append(score)\n",
        "    \n",
        "results['AUC'] = scores"
      ]
    },
    {
      "cell_type": "code",
      "execution_count": null,
      "metadata": {
        "id": "_dtjEgiROuS3",
        "colab": {
          "base_uri": "https://localhost:8080/",
          "height": 206
        },
        "outputId": "3593882e-d8d2-4567-ee76-c69f3b7e9e54"
      },
      "outputs": [
        {
          "output_type": "execute_result",
          "data": {
            "text/plain": [
              "                       AUC\n",
              "Cardiomegaly      0.864416\n",
              "Edema             0.937649\n",
              "Consolidation     0.949265\n",
              "Atelectasis       0.854278\n",
              "Pleural Effusion  0.925611"
            ],
            "text/html": [
              "\n",
              "  <div id=\"df-e793f968-bdbd-4642-a4ce-ea363393be16\">\n",
              "    <div class=\"colab-df-container\">\n",
              "      <div>\n",
              "<style scoped>\n",
              "    .dataframe tbody tr th:only-of-type {\n",
              "        vertical-align: middle;\n",
              "    }\n",
              "\n",
              "    .dataframe tbody tr th {\n",
              "        vertical-align: top;\n",
              "    }\n",
              "\n",
              "    .dataframe thead th {\n",
              "        text-align: right;\n",
              "    }\n",
              "</style>\n",
              "<table border=\"1\" class=\"dataframe\">\n",
              "  <thead>\n",
              "    <tr style=\"text-align: right;\">\n",
              "      <th></th>\n",
              "      <th>AUC</th>\n",
              "    </tr>\n",
              "  </thead>\n",
              "  <tbody>\n",
              "    <tr>\n",
              "      <th>Cardiomegaly</th>\n",
              "      <td>0.864416</td>\n",
              "    </tr>\n",
              "    <tr>\n",
              "      <th>Edema</th>\n",
              "      <td>0.937649</td>\n",
              "    </tr>\n",
              "    <tr>\n",
              "      <th>Consolidation</th>\n",
              "      <td>0.949265</td>\n",
              "    </tr>\n",
              "    <tr>\n",
              "      <th>Atelectasis</th>\n",
              "      <td>0.854278</td>\n",
              "    </tr>\n",
              "    <tr>\n",
              "      <th>Pleural Effusion</th>\n",
              "      <td>0.925611</td>\n",
              "    </tr>\n",
              "  </tbody>\n",
              "</table>\n",
              "</div>\n",
              "      <button class=\"colab-df-convert\" onclick=\"convertToInteractive('df-e793f968-bdbd-4642-a4ce-ea363393be16')\"\n",
              "              title=\"Convert this dataframe to an interactive table.\"\n",
              "              style=\"display:none;\">\n",
              "        \n",
              "  <svg xmlns=\"http://www.w3.org/2000/svg\" height=\"24px\"viewBox=\"0 0 24 24\"\n",
              "       width=\"24px\">\n",
              "    <path d=\"M0 0h24v24H0V0z\" fill=\"none\"/>\n",
              "    <path d=\"M18.56 5.44l.94 2.06.94-2.06 2.06-.94-2.06-.94-.94-2.06-.94 2.06-2.06.94zm-11 1L8.5 8.5l.94-2.06 2.06-.94-2.06-.94L8.5 2.5l-.94 2.06-2.06.94zm10 10l.94 2.06.94-2.06 2.06-.94-2.06-.94-.94-2.06-.94 2.06-2.06.94z\"/><path d=\"M17.41 7.96l-1.37-1.37c-.4-.4-.92-.59-1.43-.59-.52 0-1.04.2-1.43.59L10.3 9.45l-7.72 7.72c-.78.78-.78 2.05 0 2.83L4 21.41c.39.39.9.59 1.41.59.51 0 1.02-.2 1.41-.59l7.78-7.78 2.81-2.81c.8-.78.8-2.07 0-2.86zM5.41 20L4 18.59l7.72-7.72 1.47 1.35L5.41 20z\"/>\n",
              "  </svg>\n",
              "      </button>\n",
              "      \n",
              "  <style>\n",
              "    .colab-df-container {\n",
              "      display:flex;\n",
              "      flex-wrap:wrap;\n",
              "      gap: 12px;\n",
              "    }\n",
              "\n",
              "    .colab-df-convert {\n",
              "      background-color: #E8F0FE;\n",
              "      border: none;\n",
              "      border-radius: 50%;\n",
              "      cursor: pointer;\n",
              "      display: none;\n",
              "      fill: #1967D2;\n",
              "      height: 32px;\n",
              "      padding: 0 0 0 0;\n",
              "      width: 32px;\n",
              "    }\n",
              "\n",
              "    .colab-df-convert:hover {\n",
              "      background-color: #E2EBFA;\n",
              "      box-shadow: 0px 1px 2px rgba(60, 64, 67, 0.3), 0px 1px 3px 1px rgba(60, 64, 67, 0.15);\n",
              "      fill: #174EA6;\n",
              "    }\n",
              "\n",
              "    [theme=dark] .colab-df-convert {\n",
              "      background-color: #3B4455;\n",
              "      fill: #D2E3FC;\n",
              "    }\n",
              "\n",
              "    [theme=dark] .colab-df-convert:hover {\n",
              "      background-color: #434B5C;\n",
              "      box-shadow: 0px 1px 3px 1px rgba(0, 0, 0, 0.15);\n",
              "      filter: drop-shadow(0px 1px 2px rgba(0, 0, 0, 0.3));\n",
              "      fill: #FFFFFF;\n",
              "    }\n",
              "  </style>\n",
              "\n",
              "      <script>\n",
              "        const buttonEl =\n",
              "          document.querySelector('#df-e793f968-bdbd-4642-a4ce-ea363393be16 button.colab-df-convert');\n",
              "        buttonEl.style.display =\n",
              "          google.colab.kernel.accessAllowed ? 'block' : 'none';\n",
              "\n",
              "        async function convertToInteractive(key) {\n",
              "          const element = document.querySelector('#df-e793f968-bdbd-4642-a4ce-ea363393be16');\n",
              "          const dataTable =\n",
              "            await google.colab.kernel.invokeFunction('convertToInteractive',\n",
              "                                                     [key], {});\n",
              "          if (!dataTable) return;\n",
              "\n",
              "          const docLinkHtml = 'Like what you see? Visit the ' +\n",
              "            '<a target=\"_blank\" href=https://colab.research.google.com/notebooks/data_table.ipynb>data table notebook</a>'\n",
              "            + ' to learn more about interactive tables.';\n",
              "          element.innerHTML = '';\n",
              "          dataTable['output_type'] = 'display_data';\n",
              "          await google.colab.output.renderOutput(dataTable, element);\n",
              "          const docLink = document.createElement('div');\n",
              "          docLink.innerHTML = docLinkHtml;\n",
              "          element.appendChild(docLink);\n",
              "        }\n",
              "      </script>\n",
              "    </div>\n",
              "  </div>\n",
              "  "
            ]
          },
          "metadata": {},
          "execution_count": 13
        }
      ],
      "source": [
        "results"
      ]
    },
    {
      "cell_type": "code",
      "execution_count": null,
      "metadata": {
        "id": "7EjD7DhEOv0T",
        "colab": {
          "base_uri": "https://localhost:8080/"
        },
        "outputId": "3ab2d164-7356-4c53-d1d5-c8325d14ccbd"
      },
      "outputs": [
        {
          "output_type": "execute_result",
          "data": {
            "text/plain": [
              "0.9062438729413212"
            ]
          },
          "metadata": {},
          "execution_count": 14
        }
      ],
      "source": [
        "results['AUC'].mean()"
      ]
    },
    {
      "cell_type": "code",
      "execution_count": null,
      "metadata": {
        "id": "YWFp9QMenTSM"
      },
      "outputs": [],
      "source": []
    }
  ],
  "metadata": {
    "colab": {
      "collapsed_sections": [],
      "provenance": []
    },
    "kernelspec": {
      "display_name": "Python 3",
      "language": "python",
      "name": "python3"
    },
    "language_info": {
      "codemirror_mode": {
        "name": "ipython",
        "version": 3
      },
      "file_extension": ".py",
      "mimetype": "text/x-python",
      "name": "python",
      "nbconvert_exporter": "python",
      "pygments_lexer": "ipython3",
      "version": "3.8.8"
    },
    "accelerator": "GPU"
  },
  "nbformat": 4,
  "nbformat_minor": 0
}