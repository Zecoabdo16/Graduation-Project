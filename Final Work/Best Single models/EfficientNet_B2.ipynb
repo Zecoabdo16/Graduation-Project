{
  "cells": [
    {
      "cell_type": "code",
      "source": [
        "!nvidia-smi -L"
      ],
      "metadata": {
        "colab": {
          "base_uri": "https://localhost:8080/"
        },
        "id": "1BFMewjPicrE",
        "outputId": "37e9c7d0-98aa-48f3-ed9f-15bfa2931b19"
      },
      "execution_count": null,
      "outputs": [
        {
          "output_type": "stream",
          "name": "stdout",
          "text": [
            "GPU 0: Tesla P100-PCIE-16GB (UUID: GPU-05cdaa7b-9dc5-817f-752d-e4c66e1af08a)\n"
          ]
        }
      ]
    },
    {
      "cell_type": "code",
      "execution_count": null,
      "metadata": {
        "colab": {
          "base_uri": "https://localhost:8080/"
        },
        "id": "UbCQhIOOOYD6",
        "outputId": "a22decc2-0788-4a11-ccdf-80669eab4f37"
      },
      "outputs": [
        {
          "output_type": "stream",
          "name": "stdout",
          "text": [
            "Mounted at /content/drive\n"
          ]
        }
      ],
      "source": [
        "from google.colab import drive\n",
        "drive.mount('/content/drive')"
      ]
    },
    {
      "cell_type": "code",
      "execution_count": null,
      "metadata": {
        "id": "ezLUMrGkOhNJ"
      },
      "outputs": [],
      "source": [
        "!unzip /content/drive/MyDrive/CHEXPERT/CheXpert-v1.0-small.zip > /dev/null"
      ]
    },
    {
      "cell_type": "code",
      "source": [
        "!pip install timm > /dev/null"
      ],
      "metadata": {
        "id": "_8dlabuqhhwh"
      },
      "execution_count": null,
      "outputs": []
    },
    {
      "cell_type": "code",
      "execution_count": null,
      "metadata": {
        "id": "HV-lvLWUOi9V"
      },
      "outputs": [],
      "source": [
        "import cv2\n",
        "import numpy as np \n",
        "import pandas as pd\n",
        "\n",
        "import matplotlib.pyplot as plt\n",
        "\n",
        "import torch \n",
        "from torch import nn\n",
        "from torchsummary import summary\n",
        "\n",
        "import timm\n",
        "from torch.optim import Adam, lr_scheduler\n",
        "\n",
        "from myGen import MyGen\n",
        "\n",
        "from sklearn.metrics import roc_auc_score"
      ]
    },
    {
      "cell_type": "code",
      "source": [
        "train = pd.read_csv('/content/CheXpert-v1.0-small/train.csv')"
      ],
      "metadata": {
        "id": "aDfe4k8_jXW3"
      },
      "execution_count": null,
      "outputs": []
    },
    {
      "cell_type": "code",
      "source": [
        "train.loc[:, train.columns[5:]] = train.loc[:, train.columns[5:]].fillna(0)\n",
        "\n",
        "zeros = ['Cardiomegaly', 'Consolidation', 'Pleural Effusion']\n",
        "train.loc[:, zeros] = train.loc[:, zeros].replace({-1:0})\n",
        "ones = ['Edema', 'Atelectasis']\n",
        "train.loc[:, ones] = train.loc[:, ones].replace({-1:1})\n",
        "\n",
        "train = train[['Path', 'Frontal/Lateral', 'Cardiomegaly', 'Edema', 'Consolidation', 'Atelectasis', 'Pleural Effusion']].copy() "
      ],
      "metadata": {
        "id": "bmWkX4FljjbT"
      },
      "execution_count": null,
      "outputs": []
    },
    {
      "cell_type": "code",
      "source": [
        "train.to_csv('/content/CheXpert-v1.0-small/train_edited.csv', index=False)"
      ],
      "metadata": {
        "id": "ze6PDyvtkQR6"
      },
      "execution_count": null,
      "outputs": []
    },
    {
      "cell_type": "code",
      "execution_count": null,
      "metadata": {
        "id": "WhX4hTCnAt68"
      },
      "outputs": [],
      "source": [
        "save_weights_path = '/content/drive/MyDrive/Final_Weights/Z_efficientnet_b2_320.pth'\n",
        "load_weights_path = '/content/drive/MyDrive/Final_Weights/Z_efficientnet_b2_320_load.pth'"
      ]
    },
    {
      "cell_type": "code",
      "source": [
        "timm.list_models(pretrained=True)"
      ],
      "metadata": {
        "id": "9VhaJuqzi7FJ"
      },
      "execution_count": null,
      "outputs": []
    },
    {
      "cell_type": "code",
      "source": [
        "model = timm.create_model('efficientnet_b2', num_classes=5, pretrained=True)\n",
        "model = model.cuda()\n",
        "\n",
        "# summary(model, (3, 224, 224), batch_size=1, device='cuda')"
      ],
      "metadata": {
        "id": "B1Ccjd9kMYX6",
        "colab": {
          "base_uri": "https://localhost:8080/"
        },
        "outputId": "71913a53-ab10-415b-ebb7-5da35d27c002"
      },
      "execution_count": null,
      "outputs": [
        {
          "output_type": "stream",
          "name": "stderr",
          "text": [
            "Downloading: \"https://github.com/rwightman/pytorch-image-models/releases/download/v0.1-weights/efficientnet_b2_ra-bcdf34b7.pth\" to /root/.cache/torch/hub/checkpoints/efficientnet_b2_ra-bcdf34b7.pth\n"
          ]
        }
      ]
    },
    {
      "cell_type": "code",
      "source": [
        "def get_lr(optimizer):\n",
        "    for param_group in optimizer.param_groups:\n",
        "        return param_group['lr']"
      ],
      "metadata": {
        "id": "rteLJ084NtTA"
      },
      "execution_count": null,
      "outputs": []
    },
    {
      "cell_type": "code",
      "execution_count": null,
      "metadata": {
        "id": "h1-qVWyinYT5",
        "colab": {
          "base_uri": "https://localhost:8080/"
        },
        "outputId": "353fb158-9486-49e3-9cbc-5cb5874a9da6"
      },
      "outputs": [
        {
          "output_type": "stream",
          "name": "stdout",
          "text": [
            "Epoch=0, BatchID=0, Val_AUC=0.5123, Best_Val_AUC=0.5123, lr=0.001000\n",
            "Epoch=0, BatchID=800, Val_AUC=0.8856, Best_Val_AUC=0.8856, lr=0.001000\n",
            "Epoch=0, BatchID=1600, Val_AUC=0.8650, Best_Val_AUC=0.8856, lr=0.001000\n",
            "Epoch=0, BatchID=2400, Val_AUC=0.8706, Best_Val_AUC=0.8856, lr=0.001000\n",
            "Epoch=0, BatchID=3200, Val_AUC=0.8820, Best_Val_AUC=0.8856, lr=0.001000\n",
            "Epoch=0, BatchID=4000, Val_AUC=0.8747, Best_Val_AUC=0.8856, lr=0.001000\n",
            "Epoch=0, BatchID=4800, Val_AUC=0.8820, Best_Val_AUC=0.8856, lr=0.000500\n",
            "Epoch=0, BatchID=5600, Val_AUC=0.8893, Best_Val_AUC=0.8893, lr=0.000500\n",
            "Epoch=1, BatchID=0, Val_AUC=0.8918, Best_Val_AUC=0.8918, lr=0.000500\n",
            "Epoch=1, BatchID=800, Val_AUC=0.8778, Best_Val_AUC=0.8918, lr=0.000500\n",
            "Epoch=1, BatchID=1600, Val_AUC=0.8789, Best_Val_AUC=0.8918, lr=0.000500\n",
            "Epoch=1, BatchID=2400, Val_AUC=0.8911, Best_Val_AUC=0.8918, lr=0.000500\n",
            "Epoch=1, BatchID=3200, Val_AUC=0.8924, Best_Val_AUC=0.8924, lr=0.000500\n",
            "Epoch=1, BatchID=4000, Val_AUC=0.8967, Best_Val_AUC=0.8967, lr=0.000500\n",
            "Epoch=1, BatchID=4800, Val_AUC=0.8764, Best_Val_AUC=0.8967, lr=0.000500\n",
            "Epoch=1, BatchID=5600, Val_AUC=0.8849, Best_Val_AUC=0.8967, lr=0.000500\n",
            "Epoch=2, BatchID=0, Val_AUC=0.8848, Best_Val_AUC=0.8967, lr=0.000500\n",
            "Epoch=2, BatchID=800, Val_AUC=0.8979, Best_Val_AUC=0.8979, lr=0.000500\n",
            "Epoch=2, BatchID=1600, Val_AUC=0.8816, Best_Val_AUC=0.8979, lr=0.000500\n",
            "Epoch=2, BatchID=2400, Val_AUC=0.8849, Best_Val_AUC=0.8979, lr=0.000500\n",
            "Epoch=2, BatchID=3200, Val_AUC=0.8722, Best_Val_AUC=0.8979, lr=0.000500\n",
            "Epoch=2, BatchID=4000, Val_AUC=0.8902, Best_Val_AUC=0.8979, lr=0.000500\n",
            "Epoch=2, BatchID=4800, Val_AUC=0.8955, Best_Val_AUC=0.8979, lr=0.000250\n",
            "Epoch=2, BatchID=5600, Val_AUC=0.8950, Best_Val_AUC=0.8979, lr=0.000250\n",
            "Epoch=3, BatchID=0, Val_AUC=0.8918, Best_Val_AUC=0.8979, lr=0.000250\n",
            "Epoch=3, BatchID=800, Val_AUC=0.8943, Best_Val_AUC=0.8979, lr=0.000250\n",
            "Epoch=3, BatchID=1600, Val_AUC=0.8799, Best_Val_AUC=0.8979, lr=0.000250\n",
            "Epoch=3, BatchID=2400, Val_AUC=0.9005, Best_Val_AUC=0.9005, lr=0.000250\n",
            "Epoch=3, BatchID=3200, Val_AUC=0.8935, Best_Val_AUC=0.9005, lr=0.000250\n",
            "Epoch=3, BatchID=4000, Val_AUC=0.8891, Best_Val_AUC=0.9005, lr=0.000250\n",
            "Epoch=3, BatchID=4800, Val_AUC=0.8921, Best_Val_AUC=0.9005, lr=0.000250\n",
            "Epoch=3, BatchID=5600, Val_AUC=0.8967, Best_Val_AUC=0.9005, lr=0.000250\n",
            "Epoch=4, BatchID=0, Val_AUC=0.9065, Best_Val_AUC=0.9065, lr=0.000250\n",
            "Epoch=4, BatchID=800, Val_AUC=0.8807, Best_Val_AUC=0.9065, lr=0.000250\n",
            "Epoch=4, BatchID=1600, Val_AUC=0.8742, Best_Val_AUC=0.9065, lr=0.000250\n",
            "Epoch=4, BatchID=2400, Val_AUC=0.8837, Best_Val_AUC=0.9065, lr=0.000250\n",
            "Epoch=4, BatchID=3200, Val_AUC=0.8818, Best_Val_AUC=0.9065, lr=0.000250\n",
            "Epoch=4, BatchID=4000, Val_AUC=0.8850, Best_Val_AUC=0.9065, lr=0.000125\n",
            "Epoch=4, BatchID=4800, Val_AUC=0.8834, Best_Val_AUC=0.9065, lr=0.000125\n",
            "Epoch=4, BatchID=5600, Val_AUC=0.8911, Best_Val_AUC=0.9065, lr=0.000125\n"
          ]
        }
      ],
      "source": [
        "root = '/content/'\n",
        "\n",
        "trainGen = MyGen(image_root_path=root, \n",
        "                 csv_path='CheXpert-v1.0-small/train_edited.csv', \n",
        "                 image_size=320, \n",
        "                 frontal=True)\n",
        "\n",
        "valGen =  MyGen(image_root_path=root, \n",
        "                 csv_path='CheXpert-v1.0-small/valid.csv', \n",
        "                 image_size=320, \n",
        "                 frontal=True)\n",
        "\n",
        "trainloader =  torch.utils.data.DataLoader(trainGen, batch_size=32, shuffle=True)\n",
        "testloader =  torch.utils.data.DataLoader(valGen, batch_size=1, shuffle=False)\n",
        "\n",
        "# define loss & optimizer\n",
        "Loss = nn.BCELoss()\n",
        "\n",
        "optimizer = Adam(model.parameters(), lr=1e-3)\n",
        "\n",
        "scheduler = lr_scheduler.StepLR(optimizer, step_size=5, gamma=0.5)  # Decay LR by a factor of 0.5 every 5 epochs\n",
        "\n",
        "#model.load_state_dict(torch.load(load_weights_path))\n",
        "\n",
        "# training\n",
        "const_threshold = 5\n",
        "\n",
        "val_auc_mean = 0\n",
        "best_val_auc = 0\n",
        "const_cnt = 0\n",
        "\n",
        "for epoch in range(5):\n",
        "\n",
        "    for idx, data in enumerate(trainloader):\n",
        "      train_data, train_labels = data\n",
        "      train_data, train_labels  = train_data.cuda(), train_labels.cuda()\n",
        "      y_pred = model(train_data)\n",
        "      y_pred = torch.sigmoid(y_pred)\n",
        "      loss = Loss(y_pred, train_labels)\n",
        "\n",
        "      optimizer.zero_grad()\n",
        "      loss.backward()\n",
        "      optimizer.step()\n",
        "        \n",
        "      # validation  \n",
        "      if idx % 800 == 0:\n",
        "         model.eval()\n",
        "         with torch.no_grad():    \n",
        "              test_pred = []\n",
        "              test_true = [] \n",
        "              for data in testloader:\n",
        "                  test_data, test_labels = data\n",
        "                  test_data = test_data.cuda()\n",
        "                  y_pred = model(test_data)\n",
        "                  y_pred = torch.sigmoid(y_pred)\n",
        "                  test_pred.append(y_pred.cpu().detach().numpy())            \n",
        "                  test_true.append(test_labels.numpy())\n",
        "            \n",
        "              test_true = np.concatenate(test_true)\n",
        "              test_pred = np.concatenate(test_pred)\n",
        "              val_auc_mean =  roc_auc_score(test_true, test_pred) \n",
        "              model.train()\n",
        "\n",
        "              if best_val_auc < val_auc_mean:\n",
        "                  const_cnt = 0\n",
        "                  scheduler = lr_scheduler.StepLR(optimizer, step_size=5, gamma=0.5)\n",
        "                  best_val_auc = val_auc_mean\n",
        "                  torch.save(model.state_dict(), save_weights_path)\n",
        "              else:\n",
        "                  const_cnt += 1\n",
        "                  scheduler.step()            \n",
        "\n",
        "              if (const_cnt > const_threshold):\n",
        "                  const_cnt = 0 \n",
        "                  scheduler = lr_scheduler.StepLR(optimizer, step_size=5, gamma=0.5)\n",
        "                  model.load_state_dict(torch.load(save_weights_path))\n",
        "                               \n",
        "              lr = get_lr(optimizer)\n",
        "\n",
        "              print ('Epoch=%s, BatchID=%s, Val_AUC=%.4f, Best_Val_AUC=%.4f, lr=%f' %(epoch, idx, val_auc_mean, best_val_auc, lr))"
      ]
    },
    {
      "cell_type": "code",
      "execution_count": null,
      "metadata": {
        "id": "vcOQiYC1Hj32"
      },
      "outputs": [],
      "source": [
        "root = '/content/'\n",
        "testGen =  MyGen(image_root_path=root, \n",
        "                 csv_path='CheXpert-v1.0-small/valid.csv', \n",
        "                 image_size=224, \n",
        "                 frontal=True)\n",
        "\n",
        "testloader =  torch.utils.data.DataLoader(testGen, batch_size=1, shuffle=False)"
      ]
    },
    {
      "cell_type": "code",
      "execution_count": null,
      "metadata": {
        "id": "GEK6mJxhq31H",
        "colab": {
          "base_uri": "https://localhost:8080/"
        },
        "outputId": "7fe98879-967d-4b08-a919-8681407c89d5"
      },
      "outputs": [
        {
          "output_type": "execute_result",
          "data": {
            "text/plain": [
              "<All keys matched successfully>"
            ]
          },
          "metadata": {},
          "execution_count": 31
        }
      ],
      "source": [
        "model.load_state_dict(torch.load(save_weights_path))"
      ]
    },
    {
      "cell_type": "code",
      "execution_count": null,
      "metadata": {
        "id": "zpe-z8zxDyrG"
      },
      "outputs": [],
      "source": [
        "model.eval()\n",
        "with torch.no_grad():    \n",
        "    test_pred = []\n",
        "    test_true = [] \n",
        "    for data in testloader:\n",
        "        test_data, test_labels = data\n",
        "        test_data = test_data.cuda()\n",
        "        y_pred = model(test_data)\n",
        "        y_pred = torch.sigmoid(y_pred)\n",
        "        test_pred.append(y_pred.cpu().detach().numpy())\n",
        "        test_true.append(test_labels.numpy())\n",
        "  \n",
        "    test_true = np.concatenate(test_true)\n",
        "    test_pred = np.concatenate(test_pred)"
      ]
    },
    {
      "cell_type": "code",
      "execution_count": null,
      "metadata": {
        "id": "fv7xxNPVOsS5"
      },
      "outputs": [],
      "source": [
        "labels = ['Cardiomegaly', 'Edema', 'Consolidation', 'Atelectasis', 'Pleural Effusion']\n",
        "\n",
        "results = pd.DataFrame(index=labels)\n",
        "\n",
        "\n",
        "scores = []\n",
        "for i in range(5):\n",
        "    score = roc_auc_score(test_true[:, i], test_pred[:, i])\n",
        "    scores.append(score)\n",
        "    \n",
        "results['AUC'] = scores"
      ]
    },
    {
      "cell_type": "code",
      "execution_count": null,
      "metadata": {
        "id": "_dtjEgiROuS3",
        "colab": {
          "base_uri": "https://localhost:8080/",
          "height": 206
        },
        "outputId": "15acb153-2615-4329-d7f2-c3b4d23a6f4e"
      },
      "outputs": [
        {
          "output_type": "execute_result",
          "data": {
            "text/plain": [
              "                       AUC\n",
              "Cardiomegaly      0.876671\n",
              "Edema             0.936905\n",
              "Consolidation     0.940993\n",
              "Atelectasis       0.860262\n",
              "Pleural Effusion  0.917799"
            ],
            "text/html": [
              "\n",
              "  <div id=\"df-2d4d51e9-f97e-4f47-ae0d-4f1d26b9414c\">\n",
              "    <div class=\"colab-df-container\">\n",
              "      <div>\n",
              "<style scoped>\n",
              "    .dataframe tbody tr th:only-of-type {\n",
              "        vertical-align: middle;\n",
              "    }\n",
              "\n",
              "    .dataframe tbody tr th {\n",
              "        vertical-align: top;\n",
              "    }\n",
              "\n",
              "    .dataframe thead th {\n",
              "        text-align: right;\n",
              "    }\n",
              "</style>\n",
              "<table border=\"1\" class=\"dataframe\">\n",
              "  <thead>\n",
              "    <tr style=\"text-align: right;\">\n",
              "      <th></th>\n",
              "      <th>AUC</th>\n",
              "    </tr>\n",
              "  </thead>\n",
              "  <tbody>\n",
              "    <tr>\n",
              "      <th>Cardiomegaly</th>\n",
              "      <td>0.876671</td>\n",
              "    </tr>\n",
              "    <tr>\n",
              "      <th>Edema</th>\n",
              "      <td>0.936905</td>\n",
              "    </tr>\n",
              "    <tr>\n",
              "      <th>Consolidation</th>\n",
              "      <td>0.940993</td>\n",
              "    </tr>\n",
              "    <tr>\n",
              "      <th>Atelectasis</th>\n",
              "      <td>0.860262</td>\n",
              "    </tr>\n",
              "    <tr>\n",
              "      <th>Pleural Effusion</th>\n",
              "      <td>0.917799</td>\n",
              "    </tr>\n",
              "  </tbody>\n",
              "</table>\n",
              "</div>\n",
              "      <button class=\"colab-df-convert\" onclick=\"convertToInteractive('df-2d4d51e9-f97e-4f47-ae0d-4f1d26b9414c')\"\n",
              "              title=\"Convert this dataframe to an interactive table.\"\n",
              "              style=\"display:none;\">\n",
              "        \n",
              "  <svg xmlns=\"http://www.w3.org/2000/svg\" height=\"24px\"viewBox=\"0 0 24 24\"\n",
              "       width=\"24px\">\n",
              "    <path d=\"M0 0h24v24H0V0z\" fill=\"none\"/>\n",
              "    <path d=\"M18.56 5.44l.94 2.06.94-2.06 2.06-.94-2.06-.94-.94-2.06-.94 2.06-2.06.94zm-11 1L8.5 8.5l.94-2.06 2.06-.94-2.06-.94L8.5 2.5l-.94 2.06-2.06.94zm10 10l.94 2.06.94-2.06 2.06-.94-2.06-.94-.94-2.06-.94 2.06-2.06.94z\"/><path d=\"M17.41 7.96l-1.37-1.37c-.4-.4-.92-.59-1.43-.59-.52 0-1.04.2-1.43.59L10.3 9.45l-7.72 7.72c-.78.78-.78 2.05 0 2.83L4 21.41c.39.39.9.59 1.41.59.51 0 1.02-.2 1.41-.59l7.78-7.78 2.81-2.81c.8-.78.8-2.07 0-2.86zM5.41 20L4 18.59l7.72-7.72 1.47 1.35L5.41 20z\"/>\n",
              "  </svg>\n",
              "      </button>\n",
              "      \n",
              "  <style>\n",
              "    .colab-df-container {\n",
              "      display:flex;\n",
              "      flex-wrap:wrap;\n",
              "      gap: 12px;\n",
              "    }\n",
              "\n",
              "    .colab-df-convert {\n",
              "      background-color: #E8F0FE;\n",
              "      border: none;\n",
              "      border-radius: 50%;\n",
              "      cursor: pointer;\n",
              "      display: none;\n",
              "      fill: #1967D2;\n",
              "      height: 32px;\n",
              "      padding: 0 0 0 0;\n",
              "      width: 32px;\n",
              "    }\n",
              "\n",
              "    .colab-df-convert:hover {\n",
              "      background-color: #E2EBFA;\n",
              "      box-shadow: 0px 1px 2px rgba(60, 64, 67, 0.3), 0px 1px 3px 1px rgba(60, 64, 67, 0.15);\n",
              "      fill: #174EA6;\n",
              "    }\n",
              "\n",
              "    [theme=dark] .colab-df-convert {\n",
              "      background-color: #3B4455;\n",
              "      fill: #D2E3FC;\n",
              "    }\n",
              "\n",
              "    [theme=dark] .colab-df-convert:hover {\n",
              "      background-color: #434B5C;\n",
              "      box-shadow: 0px 1px 3px 1px rgba(0, 0, 0, 0.15);\n",
              "      filter: drop-shadow(0px 1px 2px rgba(0, 0, 0, 0.3));\n",
              "      fill: #FFFFFF;\n",
              "    }\n",
              "  </style>\n",
              "\n",
              "      <script>\n",
              "        const buttonEl =\n",
              "          document.querySelector('#df-2d4d51e9-f97e-4f47-ae0d-4f1d26b9414c button.colab-df-convert');\n",
              "        buttonEl.style.display =\n",
              "          google.colab.kernel.accessAllowed ? 'block' : 'none';\n",
              "\n",
              "        async function convertToInteractive(key) {\n",
              "          const element = document.querySelector('#df-2d4d51e9-f97e-4f47-ae0d-4f1d26b9414c');\n",
              "          const dataTable =\n",
              "            await google.colab.kernel.invokeFunction('convertToInteractive',\n",
              "                                                     [key], {});\n",
              "          if (!dataTable) return;\n",
              "\n",
              "          const docLinkHtml = 'Like what you see? Visit the ' +\n",
              "            '<a target=\"_blank\" href=https://colab.research.google.com/notebooks/data_table.ipynb>data table notebook</a>'\n",
              "            + ' to learn more about interactive tables.';\n",
              "          element.innerHTML = '';\n",
              "          dataTable['output_type'] = 'display_data';\n",
              "          await google.colab.output.renderOutput(dataTable, element);\n",
              "          const docLink = document.createElement('div');\n",
              "          docLink.innerHTML = docLinkHtml;\n",
              "          element.appendChild(docLink);\n",
              "        }\n",
              "      </script>\n",
              "    </div>\n",
              "  </div>\n",
              "  "
            ]
          },
          "metadata": {},
          "execution_count": 34
        }
      ],
      "source": [
        "results"
      ]
    },
    {
      "cell_type": "code",
      "execution_count": null,
      "metadata": {
        "id": "7EjD7DhEOv0T",
        "colab": {
          "base_uri": "https://localhost:8080/"
        },
        "outputId": "303a5647-59ce-43de-af7e-e0aa158cfade"
      },
      "outputs": [
        {
          "output_type": "execute_result",
          "data": {
            "text/plain": [
              "0.9065259824386634"
            ]
          },
          "metadata": {},
          "execution_count": 35
        }
      ],
      "source": [
        "results['AUC'].mean()"
      ]
    },
    {
      "cell_type": "code",
      "execution_count": null,
      "metadata": {
        "id": "YWFp9QMenTSM"
      },
      "outputs": [],
      "source": []
    }
  ],
  "metadata": {
    "colab": {
      "collapsed_sections": [],
      "provenance": []
    },
    "kernelspec": {
      "display_name": "Python 3",
      "language": "python",
      "name": "python3"
    },
    "language_info": {
      "codemirror_mode": {
        "name": "ipython",
        "version": 3
      },
      "file_extension": ".py",
      "mimetype": "text/x-python",
      "name": "python",
      "nbconvert_exporter": "python",
      "pygments_lexer": "ipython3",
      "version": "3.8.8"
    },
    "accelerator": "GPU"
  },
  "nbformat": 4,
  "nbformat_minor": 0
}