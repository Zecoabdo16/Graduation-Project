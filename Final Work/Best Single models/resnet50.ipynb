{
  "cells": [
    {
      "cell_type": "code",
      "execution_count": null,
      "metadata": {
        "colab": {
          "base_uri": "https://localhost:8080/"
        },
        "id": "UbCQhIOOOYD6",
        "outputId": "3c3a05cd-da93-4b1a-842e-34b72e9e7b0a"
      },
      "outputs": [
        {
          "output_type": "stream",
          "name": "stdout",
          "text": [
            "Mounted at /content/drive\n"
          ]
        }
      ],
      "source": [
        "from google.colab import drive\n",
        "drive.mount('/content/drive')"
      ]
    },
    {
      "cell_type": "code",
      "source": [
        "!nvidia-smi -L"
      ],
      "metadata": {
        "colab": {
          "base_uri": "https://localhost:8080/"
        },
        "id": "1BFMewjPicrE",
        "outputId": "84501af4-9fb4-429b-d1c8-a79c7b7f0271"
      },
      "execution_count": null,
      "outputs": [
        {
          "output_type": "stream",
          "name": "stdout",
          "text": [
            "GPU 0: Tesla P100-PCIE-16GB (UUID: GPU-70e763da-f0c1-a491-a798-7cf8b77e9518)\n"
          ]
        }
      ]
    },
    {
      "cell_type": "code",
      "execution_count": null,
      "metadata": {
        "id": "ezLUMrGkOhNJ"
      },
      "outputs": [],
      "source": [
        "!unzip /content/drive/MyDrive/CHEXPERT/CheXpert-v1.0-small.zip > /dev/null"
      ]
    },
    {
      "cell_type": "code",
      "source": [
        "!pip install timm > /dev/null"
      ],
      "metadata": {
        "id": "_8dlabuqhhwh"
      },
      "execution_count": null,
      "outputs": []
    },
    {
      "cell_type": "code",
      "execution_count": null,
      "metadata": {
        "id": "HV-lvLWUOi9V"
      },
      "outputs": [],
      "source": [
        "import cv2\n",
        "import numpy as np \n",
        "import pandas as pd\n",
        "\n",
        "import matplotlib.pyplot as plt\n",
        "\n",
        "import torch \n",
        "from torch import nn\n",
        "from torchsummary import summary\n",
        "\n",
        "import timm\n",
        "from torch.optim import Adam, lr_scheduler\n",
        "\n",
        "from myGen import MyGen\n",
        "\n",
        "from sklearn.metrics import roc_auc_score"
      ]
    },
    {
      "cell_type": "code",
      "source": [
        "train = pd.read_csv('/content/CheXpert-v1.0-small/train.csv')"
      ],
      "metadata": {
        "id": "aDfe4k8_jXW3"
      },
      "execution_count": null,
      "outputs": []
    },
    {
      "cell_type": "code",
      "source": [
        "train.loc[:, train.columns[5:]] = train.loc[:, train.columns[5:]].fillna(0)\n",
        "\n",
        "zeros = ['Cardiomegaly', 'Consolidation', 'Pleural Effusion']\n",
        "train.loc[:, zeros] = train.loc[:, zeros].replace({-1:0})\n",
        "ones = ['Edema', 'Atelectasis']\n",
        "train.loc[:, ones] = train.loc[:, ones].replace({-1:1})\n",
        "\n",
        "train = train[['Path', 'Frontal/Lateral', 'Cardiomegaly', 'Edema', 'Consolidation', 'Atelectasis', 'Pleural Effusion']].copy() "
      ],
      "metadata": {
        "id": "bmWkX4FljjbT"
      },
      "execution_count": null,
      "outputs": []
    },
    {
      "cell_type": "code",
      "source": [
        "train.to_csv('/content/CheXpert-v1.0-small/train_edited.csv', index=False)"
      ],
      "metadata": {
        "id": "ze6PDyvtkQR6"
      },
      "execution_count": null,
      "outputs": []
    },
    {
      "cell_type": "code",
      "execution_count": null,
      "metadata": {
        "id": "WhX4hTCnAt68"
      },
      "outputs": [],
      "source": [
        "save_weights_path = '/content/drive/MyDrive/Final_Weights/Z_resnet50_320.pth'\n",
        "load_weights_path = '/content/drive/MyDrive/Final_Weights/Z_resnet50_320_load.pth'"
      ]
    },
    {
      "cell_type": "code",
      "source": [
        "timm.list_models(pretrained=True)"
      ],
      "metadata": {
        "id": "9VhaJuqzi7FJ"
      },
      "execution_count": null,
      "outputs": []
    },
    {
      "cell_type": "code",
      "source": [
        "model = timm.create_model('resnet50', num_classes=5, pretrained=True)\n",
        "model = model.cuda()\n",
        "\n",
        "# summary(model, (3, 224, 224), batch_size=64, device='cuda')"
      ],
      "metadata": {
        "id": "B1Ccjd9kMYX6",
        "colab": {
          "base_uri": "https://localhost:8080/"
        },
        "outputId": "0835cab7-c48a-4c70-9a35-740e5a736ddd"
      },
      "execution_count": null,
      "outputs": [
        {
          "output_type": "stream",
          "name": "stderr",
          "text": [
            "Downloading: \"https://github.com/rwightman/pytorch-image-models/releases/download/v0.1-rsb-weights/resnet50_a1_0-14fe96d1.pth\" to /root/.cache/torch/hub/checkpoints/resnet50_a1_0-14fe96d1.pth\n"
          ]
        }
      ]
    },
    {
      "cell_type": "code",
      "source": [
        "def get_lr(optimizer):\n",
        "    for param_group in optimizer.param_groups:\n",
        "        return param_group['lr']"
      ],
      "metadata": {
        "id": "rteLJ084NtTA"
      },
      "execution_count": null,
      "outputs": []
    },
    {
      "cell_type": "code",
      "execution_count": null,
      "metadata": {
        "id": "h1-qVWyinYT5",
        "colab": {
          "base_uri": "https://localhost:8080/"
        },
        "outputId": "358eae69-1510-43a4-8ed5-f1e7f50bcb2e"
      },
      "outputs": [
        {
          "output_type": "stream",
          "name": "stdout",
          "text": [
            "Epoch=0, BatchID=400, Val_AUC=0.8301, Best_Val_AUC=0.8301, lr=0.001000\n",
            "Epoch=0, BatchID=800, Val_AUC=0.8834, Best_Val_AUC=0.8834, lr=0.001000\n",
            "Epoch=0, BatchID=1200, Val_AUC=0.8669, Best_Val_AUC=0.8834, lr=0.001000\n",
            "Epoch=0, BatchID=1600, Val_AUC=0.8578, Best_Val_AUC=0.8834, lr=0.001000\n",
            "Epoch=0, BatchID=2000, Val_AUC=0.8470, Best_Val_AUC=0.8834, lr=0.001000\n",
            "Epoch=0, BatchID=2400, Val_AUC=0.9005, Best_Val_AUC=0.9005, lr=0.001000\n",
            "Epoch=0, BatchID=2800, Val_AUC=0.8914, Best_Val_AUC=0.9005, lr=0.001000\n",
            "Epoch=1, BatchID=400, Val_AUC=0.8781, Best_Val_AUC=0.9005, lr=0.001000\n",
            "Epoch=1, BatchID=800, Val_AUC=0.9058, Best_Val_AUC=0.9058, lr=0.001000\n",
            "Epoch=1, BatchID=1200, Val_AUC=0.8646, Best_Val_AUC=0.9058, lr=0.001000\n",
            "Epoch=1, BatchID=1600, Val_AUC=0.8620, Best_Val_AUC=0.9058, lr=0.001000\n",
            "Epoch=1, BatchID=2000, Val_AUC=0.8607, Best_Val_AUC=0.9058, lr=0.001000\n",
            "Epoch=1, BatchID=2400, Val_AUC=0.8842, Best_Val_AUC=0.9058, lr=0.001000\n",
            "Epoch=1, BatchID=2800, Val_AUC=0.8882, Best_Val_AUC=0.9058, lr=0.000500\n",
            "Epoch=2, BatchID=400, Val_AUC=0.8732, Best_Val_AUC=0.9058, lr=0.000500\n",
            "Epoch=2, BatchID=800, Val_AUC=0.8893, Best_Val_AUC=0.9058, lr=0.000500\n",
            "Epoch=2, BatchID=1200, Val_AUC=0.8858, Best_Val_AUC=0.9058, lr=0.000500\n",
            "Epoch=2, BatchID=1600, Val_AUC=0.8819, Best_Val_AUC=0.9058, lr=0.000500\n",
            "Epoch=2, BatchID=2000, Val_AUC=0.8898, Best_Val_AUC=0.9058, lr=0.000500\n",
            "Epoch=2, BatchID=2400, Val_AUC=0.8869, Best_Val_AUC=0.9058, lr=0.000250\n",
            "Epoch=2, BatchID=2800, Val_AUC=0.8934, Best_Val_AUC=0.9058, lr=0.000250\n",
            "Epoch=3, BatchID=400, Val_AUC=0.8914, Best_Val_AUC=0.9058, lr=0.000250\n",
            "Epoch=3, BatchID=800, Val_AUC=0.8949, Best_Val_AUC=0.9058, lr=0.000250\n",
            "Epoch=3, BatchID=1200, Val_AUC=0.8952, Best_Val_AUC=0.9058, lr=0.000250\n",
            "Epoch=3, BatchID=1600, Val_AUC=0.8953, Best_Val_AUC=0.9058, lr=0.000250\n",
            "Epoch=3, BatchID=2000, Val_AUC=0.8962, Best_Val_AUC=0.9058, lr=0.000125\n",
            "Epoch=3, BatchID=2400, Val_AUC=0.8965, Best_Val_AUC=0.9058, lr=0.000125\n",
            "Epoch=3, BatchID=2800, Val_AUC=0.8912, Best_Val_AUC=0.9058, lr=0.000125\n",
            "Epoch=4, BatchID=400, Val_AUC=0.8927, Best_Val_AUC=0.9058, lr=0.000125\n",
            "Epoch=4, BatchID=800, Val_AUC=0.8959, Best_Val_AUC=0.9058, lr=0.000125\n",
            "Epoch=4, BatchID=1200, Val_AUC=0.8900, Best_Val_AUC=0.9058, lr=0.000125\n",
            "Epoch=4, BatchID=1600, Val_AUC=0.8897, Best_Val_AUC=0.9058, lr=0.000063\n",
            "Epoch=4, BatchID=2000, Val_AUC=0.8986, Best_Val_AUC=0.9058, lr=0.000063\n",
            "Epoch=4, BatchID=2400, Val_AUC=0.8956, Best_Val_AUC=0.9058, lr=0.000063\n",
            "Epoch=4, BatchID=2800, Val_AUC=0.8947, Best_Val_AUC=0.9058, lr=0.000063\n"
          ]
        }
      ],
      "source": [
        "root = '/content/'\n",
        "\n",
        "trainGen = MyGen(image_root_path=root, \n",
        "                 csv_path='CheXpert-v1.0-small/train_edited.csv', \n",
        "                 image_size=320, \n",
        "                 frontal=True)\n",
        "\n",
        "valGen =  MyGen(image_root_path=root, \n",
        "                 csv_path='CheXpert-v1.0-small/valid.csv', \n",
        "                 image_size=320, \n",
        "                 frontal=True)\n",
        "\n",
        "trainloader =  torch.utils.data.DataLoader(trainGen, batch_size=64, shuffle=True)\n",
        "testloader =  torch.utils.data.DataLoader(valGen, batch_size=1, shuffle=False)\n",
        "\n",
        "# define loss & optimizer\n",
        "Loss = nn.BCELoss()\n",
        "\n",
        "optimizer = Adam(model.parameters(), lr=1e-3)\n",
        "\n",
        "scheduler = lr_scheduler.StepLR(optimizer, step_size=5, gamma=0.5)  # Decay LR by a factor of 0.5 every 5 epochs\n",
        "\n",
        "#model.load_state_dict(torch.load(load_weights_path))\n",
        "\n",
        "# training\n",
        "const_threshold = 5\n",
        "\n",
        "val_auc_mean = 0\n",
        "best_val_auc = 0\n",
        "const_cnt = 0\n",
        "\n",
        "for epoch in range(5):\n",
        "\n",
        "    for idx, data in enumerate(trainloader, 1):\n",
        "      train_data, train_labels = data\n",
        "      train_data, train_labels  = train_data.cuda(), train_labels.cuda()\n",
        "      y_pred = model(train_data)\n",
        "      y_pred = torch.sigmoid(y_pred)\n",
        "      loss = Loss(y_pred, train_labels)\n",
        "\n",
        "      optimizer.zero_grad()\n",
        "      loss.backward()\n",
        "      optimizer.step()\n",
        "        \n",
        "      # validation  \n",
        "      if idx % 400 == 0:\n",
        "         model.eval()\n",
        "         with torch.no_grad():    \n",
        "              test_pred = []\n",
        "              test_true = [] \n",
        "              for data in testloader:\n",
        "                  test_data, test_labels = data\n",
        "                  test_data = test_data.cuda()\n",
        "                  y_pred = model(test_data)\n",
        "                  y_pred = torch.sigmoid(y_pred)\n",
        "                  test_pred.append(y_pred.cpu().detach().numpy())            \n",
        "                  test_true.append(test_labels.numpy())\n",
        "            \n",
        "              test_true = np.concatenate(test_true)\n",
        "              test_pred = np.concatenate(test_pred)\n",
        "              val_auc_mean =  roc_auc_score(test_true, test_pred) \n",
        "              model.train()\n",
        "\n",
        "              if best_val_auc < val_auc_mean:\n",
        "                  const_cnt = 0\n",
        "                  scheduler = lr_scheduler.StepLR(optimizer, step_size=5, gamma=0.5)\n",
        "                  best_val_auc = val_auc_mean\n",
        "                  torch.save(model.state_dict(), save_weights_path)\n",
        "              else:\n",
        "                  const_cnt += 1\n",
        "                  scheduler.step()            \n",
        "\n",
        "              if (const_cnt > const_threshold):\n",
        "                  const_cnt = 0 \n",
        "                  scheduler = lr_scheduler.StepLR(optimizer, step_size=5, gamma=0.5)\n",
        "                  model.load_state_dict(torch.load(save_weights_path))\n",
        "                               \n",
        "              lr = get_lr(optimizer)\n",
        "\n",
        "              print ('Epoch=%s, BatchID=%s, Val_AUC=%.4f, Best_Val_AUC=%.4f, lr=%f' %(epoch, idx, val_auc_mean, best_val_auc, lr))"
      ]
    },
    {
      "cell_type": "code",
      "execution_count": null,
      "metadata": {
        "id": "vcOQiYC1Hj32"
      },
      "outputs": [],
      "source": [
        "root = '/content/'\n",
        "testGen =  MyGen(image_root_path=root, \n",
        "                 csv_path='CheXpert-v1.0-small/valid.csv', \n",
        "                 image_size=224, \n",
        "                 frontal=True)\n",
        "\n",
        "testloader =  torch.utils.data.DataLoader(testGen, batch_size=1, shuffle=False)"
      ]
    },
    {
      "cell_type": "code",
      "execution_count": null,
      "metadata": {
        "id": "GEK6mJxhq31H",
        "colab": {
          "base_uri": "https://localhost:8080/"
        },
        "outputId": "a9b30d19-bd1c-437f-f6b0-d589f7e9c7b6"
      },
      "outputs": [
        {
          "output_type": "execute_result",
          "data": {
            "text/plain": [
              "<All keys matched successfully>"
            ]
          },
          "metadata": {},
          "execution_count": 25
        }
      ],
      "source": [
        "model.load_state_dict(torch.load(save_weights_path))"
      ]
    },
    {
      "cell_type": "code",
      "execution_count": null,
      "metadata": {
        "id": "zpe-z8zxDyrG"
      },
      "outputs": [],
      "source": [
        "model.eval()\n",
        "with torch.no_grad():    \n",
        "    test_pred = []\n",
        "    test_true = [] \n",
        "    for data in testloader:\n",
        "        test_data, test_labels = data\n",
        "        test_data = test_data.cuda()\n",
        "        y_pred = model(test_data)\n",
        "        y_pred = torch.sigmoid(y_pred)\n",
        "        test_pred.append(y_pred.cpu().detach().numpy())\n",
        "        test_true.append(test_labels.numpy())\n",
        "  \n",
        "    test_true = np.concatenate(test_true)\n",
        "    test_pred = np.concatenate(test_pred)"
      ]
    },
    {
      "cell_type": "code",
      "execution_count": null,
      "metadata": {
        "id": "fv7xxNPVOsS5"
      },
      "outputs": [],
      "source": [
        "labels = ['Cardiomegaly', 'Edema', 'Consolidation', 'Atelectasis', 'Pleural Effusion']\n",
        "\n",
        "results = pd.DataFrame(index=labels)\n",
        "\n",
        "\n",
        "scores = []\n",
        "for i in range(5):\n",
        "    score = roc_auc_score(test_true[:, i], test_pred[:, i])\n",
        "    scores.append(score)\n",
        "    \n",
        "results['AUC'] = scores"
      ]
    },
    {
      "cell_type": "code",
      "execution_count": null,
      "metadata": {
        "id": "_dtjEgiROuS3",
        "colab": {
          "base_uri": "https://localhost:8080/",
          "height": 206
        },
        "outputId": "48e1ae4d-4907-42af-cb0e-1749cf424703"
      },
      "outputs": [
        {
          "output_type": "execute_result",
          "data": {
            "text/plain": [
              "                       AUC\n",
              "Cardiomegaly      0.841689\n",
              "Edema             0.931845\n",
              "Consolidation     0.942463\n",
              "Atelectasis       0.879055\n",
              "Pleural Effusion  0.933877"
            ],
            "text/html": [
              "\n",
              "  <div id=\"df-e1c0d8ed-80cc-4788-9c9e-1c3119f55247\">\n",
              "    <div class=\"colab-df-container\">\n",
              "      <div>\n",
              "<style scoped>\n",
              "    .dataframe tbody tr th:only-of-type {\n",
              "        vertical-align: middle;\n",
              "    }\n",
              "\n",
              "    .dataframe tbody tr th {\n",
              "        vertical-align: top;\n",
              "    }\n",
              "\n",
              "    .dataframe thead th {\n",
              "        text-align: right;\n",
              "    }\n",
              "</style>\n",
              "<table border=\"1\" class=\"dataframe\">\n",
              "  <thead>\n",
              "    <tr style=\"text-align: right;\">\n",
              "      <th></th>\n",
              "      <th>AUC</th>\n",
              "    </tr>\n",
              "  </thead>\n",
              "  <tbody>\n",
              "    <tr>\n",
              "      <th>Cardiomegaly</th>\n",
              "      <td>0.841689</td>\n",
              "    </tr>\n",
              "    <tr>\n",
              "      <th>Edema</th>\n",
              "      <td>0.931845</td>\n",
              "    </tr>\n",
              "    <tr>\n",
              "      <th>Consolidation</th>\n",
              "      <td>0.942463</td>\n",
              "    </tr>\n",
              "    <tr>\n",
              "      <th>Atelectasis</th>\n",
              "      <td>0.879055</td>\n",
              "    </tr>\n",
              "    <tr>\n",
              "      <th>Pleural Effusion</th>\n",
              "      <td>0.933877</td>\n",
              "    </tr>\n",
              "  </tbody>\n",
              "</table>\n",
              "</div>\n",
              "      <button class=\"colab-df-convert\" onclick=\"convertToInteractive('df-e1c0d8ed-80cc-4788-9c9e-1c3119f55247')\"\n",
              "              title=\"Convert this dataframe to an interactive table.\"\n",
              "              style=\"display:none;\">\n",
              "        \n",
              "  <svg xmlns=\"http://www.w3.org/2000/svg\" height=\"24px\"viewBox=\"0 0 24 24\"\n",
              "       width=\"24px\">\n",
              "    <path d=\"M0 0h24v24H0V0z\" fill=\"none\"/>\n",
              "    <path d=\"M18.56 5.44l.94 2.06.94-2.06 2.06-.94-2.06-.94-.94-2.06-.94 2.06-2.06.94zm-11 1L8.5 8.5l.94-2.06 2.06-.94-2.06-.94L8.5 2.5l-.94 2.06-2.06.94zm10 10l.94 2.06.94-2.06 2.06-.94-2.06-.94-.94-2.06-.94 2.06-2.06.94z\"/><path d=\"M17.41 7.96l-1.37-1.37c-.4-.4-.92-.59-1.43-.59-.52 0-1.04.2-1.43.59L10.3 9.45l-7.72 7.72c-.78.78-.78 2.05 0 2.83L4 21.41c.39.39.9.59 1.41.59.51 0 1.02-.2 1.41-.59l7.78-7.78 2.81-2.81c.8-.78.8-2.07 0-2.86zM5.41 20L4 18.59l7.72-7.72 1.47 1.35L5.41 20z\"/>\n",
              "  </svg>\n",
              "      </button>\n",
              "      \n",
              "  <style>\n",
              "    .colab-df-container {\n",
              "      display:flex;\n",
              "      flex-wrap:wrap;\n",
              "      gap: 12px;\n",
              "    }\n",
              "\n",
              "    .colab-df-convert {\n",
              "      background-color: #E8F0FE;\n",
              "      border: none;\n",
              "      border-radius: 50%;\n",
              "      cursor: pointer;\n",
              "      display: none;\n",
              "      fill: #1967D2;\n",
              "      height: 32px;\n",
              "      padding: 0 0 0 0;\n",
              "      width: 32px;\n",
              "    }\n",
              "\n",
              "    .colab-df-convert:hover {\n",
              "      background-color: #E2EBFA;\n",
              "      box-shadow: 0px 1px 2px rgba(60, 64, 67, 0.3), 0px 1px 3px 1px rgba(60, 64, 67, 0.15);\n",
              "      fill: #174EA6;\n",
              "    }\n",
              "\n",
              "    [theme=dark] .colab-df-convert {\n",
              "      background-color: #3B4455;\n",
              "      fill: #D2E3FC;\n",
              "    }\n",
              "\n",
              "    [theme=dark] .colab-df-convert:hover {\n",
              "      background-color: #434B5C;\n",
              "      box-shadow: 0px 1px 3px 1px rgba(0, 0, 0, 0.15);\n",
              "      filter: drop-shadow(0px 1px 2px rgba(0, 0, 0, 0.3));\n",
              "      fill: #FFFFFF;\n",
              "    }\n",
              "  </style>\n",
              "\n",
              "      <script>\n",
              "        const buttonEl =\n",
              "          document.querySelector('#df-e1c0d8ed-80cc-4788-9c9e-1c3119f55247 button.colab-df-convert');\n",
              "        buttonEl.style.display =\n",
              "          google.colab.kernel.accessAllowed ? 'block' : 'none';\n",
              "\n",
              "        async function convertToInteractive(key) {\n",
              "          const element = document.querySelector('#df-e1c0d8ed-80cc-4788-9c9e-1c3119f55247');\n",
              "          const dataTable =\n",
              "            await google.colab.kernel.invokeFunction('convertToInteractive',\n",
              "                                                     [key], {});\n",
              "          if (!dataTable) return;\n",
              "\n",
              "          const docLinkHtml = 'Like what you see? Visit the ' +\n",
              "            '<a target=\"_blank\" href=https://colab.research.google.com/notebooks/data_table.ipynb>data table notebook</a>'\n",
              "            + ' to learn more about interactive tables.';\n",
              "          element.innerHTML = '';\n",
              "          dataTable['output_type'] = 'display_data';\n",
              "          await google.colab.output.renderOutput(dataTable, element);\n",
              "          const docLink = document.createElement('div');\n",
              "          docLink.innerHTML = docLinkHtml;\n",
              "          element.appendChild(docLink);\n",
              "        }\n",
              "      </script>\n",
              "    </div>\n",
              "  </div>\n",
              "  "
            ]
          },
          "metadata": {},
          "execution_count": 28
        }
      ],
      "source": [
        "results"
      ]
    },
    {
      "cell_type": "code",
      "execution_count": null,
      "metadata": {
        "id": "7EjD7DhEOv0T",
        "colab": {
          "base_uri": "https://localhost:8080/"
        },
        "outputId": "73ac1f19-1a89-465d-ff4e-9ca9f24dcf21"
      },
      "outputs": [
        {
          "output_type": "execute_result",
          "data": {
            "text/plain": [
              "0.9057858702800781"
            ]
          },
          "metadata": {},
          "execution_count": 29
        }
      ],
      "source": [
        "results['AUC'].mean()"
      ]
    },
    {
      "cell_type": "code",
      "execution_count": null,
      "metadata": {
        "id": "YWFp9QMenTSM"
      },
      "outputs": [],
      "source": []
    }
  ],
  "metadata": {
    "colab": {
      "collapsed_sections": [],
      "provenance": []
    },
    "kernelspec": {
      "display_name": "Python 3",
      "language": "python",
      "name": "python3"
    },
    "language_info": {
      "codemirror_mode": {
        "name": "ipython",
        "version": 3
      },
      "file_extension": ".py",
      "mimetype": "text/x-python",
      "name": "python",
      "nbconvert_exporter": "python",
      "pygments_lexer": "ipython3",
      "version": "3.8.8"
    },
    "accelerator": "GPU"
  },
  "nbformat": 4,
  "nbformat_minor": 0
}